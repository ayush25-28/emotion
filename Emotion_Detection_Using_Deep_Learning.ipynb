{
  "nbformat": 4,
  "nbformat_minor": 0,
  "metadata": {
    "colab": {
      "name": "Emotion_Detection_Using_Deep_Learning.ipynb",
      "provenance": [],
      "collapsed_sections": [],
      "authorship_tag": "ABX9TyNBFjBQyiQALXd9BjjalqUW",
      "include_colab_link": true
    },
    "kernelspec": {
      "name": "python3",
      "display_name": "Python 3"
    },
    "accelerator": "GPU"
  },
  "cells": [
    {
      "cell_type": "markdown",
      "metadata": {
        "id": "view-in-github",
        "colab_type": "text"
      },
      "source": [
        "<a href=\"https://colab.research.google.com/github/sayakpaul/Emotion-Detection-using-Deep-Learning/blob/master/Emotion_Detection_Using_Deep_Learning.ipynb\" target=\"_parent\"><img src=\"https://colab.research.google.com/assets/colab-badge.svg\" alt=\"Open In Colab\"/></a>"
      ]
    },
    {
      "cell_type": "code",
      "metadata": {
        "id": "kOnkXJVR-vNa",
        "colab_type": "code",
        "outputId": "b1e77b62-0cea-49f2-d697-2b3cb8b1303f",
        "colab": {
          "base_uri": "https://localhost:8080/",
          "height": 34
        }
      },
      "source": [
        "# Select TensorFlow 2.0 environment\n",
        "%tensorflow_version 2.x"
      ],
      "execution_count": 1,
      "outputs": [
        {
          "output_type": "stream",
          "text": [
            "TensorFlow 2.x selected.\n"
          ],
          "name": "stdout"
        }
      ]
    },
    {
      "cell_type": "markdown",
      "metadata": {
        "id": "JSbkNyrz5xkL",
        "colab_type": "text"
      },
      "source": [
        "You need to get your API key from your Kaggle account to be able to proceed with the following. "
      ]
    },
    {
      "cell_type": "code",
      "metadata": {
        "id": "axYnT4qp-3E3",
        "colab_type": "code",
        "colab": {}
      },
      "source": [
        "# Google Colab imports for setting up Kaggle\n",
        "from google.colab import files\n",
        "files.upload()"
      ],
      "execution_count": 0,
      "outputs": []
    },
    {
      "cell_type": "code",
      "metadata": {
        "id": "67YOp6Y9-7BI",
        "colab_type": "code",
        "colab": {}
      },
      "source": [
        "# Set up Kaggle\n",
        "!mkdir ~/.kaggle\n",
        "!cp kaggle.json ~/.kaggle/\n",
        "!chmod 600 ~/.kaggle/kaggle.json"
      ],
      "execution_count": 0,
      "outputs": []
    },
    {
      "cell_type": "code",
      "metadata": {
        "id": "caJiwp3y_Agi",
        "colab_type": "code",
        "colab": {}
      },
      "source": [
        "# Download the data\n",
        "# https://www.kaggle.com/c/challenges-in-representation-learning-facial-expression-recognition-challenge/\n",
        "!kaggle competitions download -c challenges-in-representation-learning-facial-expression-recognition-challenge"
      ],
      "execution_count": 0,
      "outputs": []
    },
    {
      "cell_type": "code",
      "metadata": {
        "id": "34neb1rU_Ek9",
        "colab_type": "code",
        "colab": {}
      },
      "source": [
        "# Unzip dataset\n",
        "!unzip -qq icml_face_data.csv.zip\n",
        "!unzip -qq test.csv.zip\n",
        "!unzip -qq train.csv.zip"
      ],
      "execution_count": 0,
      "outputs": []
    },
    {
      "cell_type": "code",
      "metadata": {
        "id": "qSgtCIaq_iuf",
        "colab_type": "code",
        "colab": {}
      },
      "source": [
        "# General imports\n",
        "from tqdm import tqdm\n",
        "import matplotlib.pyplot as plt\n",
        "import pandas as pd\n",
        "import numpy as np"
      ],
      "execution_count": 0,
      "outputs": []
    },
    {
      "cell_type": "code",
      "metadata": {
        "id": "I4fcMaGFAQrN",
        "colab_type": "code",
        "outputId": "27e857f5-219c-45d3-e868-f8286dc93eaa",
        "colab": {
          "base_uri": "https://localhost:8080/",
          "height": 204
        }
      },
      "source": [
        "# Load up the training dataset\n",
        "train = pd.read_csv(\"train.csv\")\n",
        "train.head()"
      ],
      "execution_count": 7,
      "outputs": [
        {
          "output_type": "execute_result",
          "data": {
            "text/html": [
              "<div>\n",
              "<style scoped>\n",
              "    .dataframe tbody tr th:only-of-type {\n",
              "        vertical-align: middle;\n",
              "    }\n",
              "\n",
              "    .dataframe tbody tr th {\n",
              "        vertical-align: top;\n",
              "    }\n",
              "\n",
              "    .dataframe thead th {\n",
              "        text-align: right;\n",
              "    }\n",
              "</style>\n",
              "<table border=\"1\" class=\"dataframe\">\n",
              "  <thead>\n",
              "    <tr style=\"text-align: right;\">\n",
              "      <th></th>\n",
              "      <th>emotion</th>\n",
              "      <th>pixels</th>\n",
              "    </tr>\n",
              "  </thead>\n",
              "  <tbody>\n",
              "    <tr>\n",
              "      <th>0</th>\n",
              "      <td>0</td>\n",
              "      <td>70 80 82 72 58 58 60 63 54 58 60 48 89 115 121...</td>\n",
              "    </tr>\n",
              "    <tr>\n",
              "      <th>1</th>\n",
              "      <td>0</td>\n",
              "      <td>151 150 147 155 148 133 111 140 170 174 182 15...</td>\n",
              "    </tr>\n",
              "    <tr>\n",
              "      <th>2</th>\n",
              "      <td>2</td>\n",
              "      <td>231 212 156 164 174 138 161 173 182 200 106 38...</td>\n",
              "    </tr>\n",
              "    <tr>\n",
              "      <th>3</th>\n",
              "      <td>4</td>\n",
              "      <td>24 32 36 30 32 23 19 20 30 41 21 22 32 34 21 1...</td>\n",
              "    </tr>\n",
              "    <tr>\n",
              "      <th>4</th>\n",
              "      <td>6</td>\n",
              "      <td>4 0 0 0 0 0 0 0 0 0 0 0 3 15 23 28 48 50 58 84...</td>\n",
              "    </tr>\n",
              "  </tbody>\n",
              "</table>\n",
              "</div>"
            ],
            "text/plain": [
              "   emotion                                             pixels\n",
              "0        0  70 80 82 72 58 58 60 63 54 58 60 48 89 115 121...\n",
              "1        0  151 150 147 155 148 133 111 140 170 174 182 15...\n",
              "2        2  231 212 156 164 174 138 161 173 182 200 106 38...\n",
              "3        4  24 32 36 30 32 23 19 20 30 41 21 22 32 34 21 1...\n",
              "4        6  4 0 0 0 0 0 0 0 0 0 0 0 3 15 23 28 48 50 58 84..."
            ]
          },
          "metadata": {
            "tags": []
          },
          "execution_count": 7
        }
      ]
    },
    {
      "cell_type": "code",
      "metadata": {
        "id": "I05tBXyaGztD",
        "colab_type": "code",
        "outputId": "57581d01-cb70-4a22-8531-f2668cbc7f1a",
        "colab": {
          "base_uri": "https://localhost:8080/",
          "height": 153
        }
      },
      "source": [
        "# Class distribution\n",
        "train[\"emotion\"].value_counts()"
      ],
      "execution_count": 8,
      "outputs": [
        {
          "output_type": "execute_result",
          "data": {
            "text/plain": [
              "3    7215\n",
              "6    4965\n",
              "4    4830\n",
              "2    4097\n",
              "0    3995\n",
              "5    3171\n",
              "1     436\n",
              "Name: emotion, dtype: int64"
            ]
          },
          "metadata": {
            "tags": []
          },
          "execution_count": 8
        }
      ]
    },
    {
      "cell_type": "markdown",
      "metadata": {
        "id": "_oGPWHJuP0pY",
        "colab_type": "text"
      },
      "source": [
        "Class imbalance noticed."
      ]
    },
    {
      "cell_type": "code",
      "metadata": {
        "id": "tugm4rNZEVpM",
        "colab_type": "code",
        "outputId": "7efe0f29-0333-4f49-c9f5-781236f1b6ac",
        "colab": {
          "base_uri": "https://localhost:8080/",
          "height": 204
        }
      },
      "source": [
        "# Load test dataset\n",
        "test = pd.read_csv(\"test.csv\")\n",
        "test.head()"
      ],
      "execution_count": 9,
      "outputs": [
        {
          "output_type": "execute_result",
          "data": {
            "text/html": [
              "<div>\n",
              "<style scoped>\n",
              "    .dataframe tbody tr th:only-of-type {\n",
              "        vertical-align: middle;\n",
              "    }\n",
              "\n",
              "    .dataframe tbody tr th {\n",
              "        vertical-align: top;\n",
              "    }\n",
              "\n",
              "    .dataframe thead th {\n",
              "        text-align: right;\n",
              "    }\n",
              "</style>\n",
              "<table border=\"1\" class=\"dataframe\">\n",
              "  <thead>\n",
              "    <tr style=\"text-align: right;\">\n",
              "      <th></th>\n",
              "      <th>pixels</th>\n",
              "    </tr>\n",
              "  </thead>\n",
              "  <tbody>\n",
              "    <tr>\n",
              "      <th>0</th>\n",
              "      <td>254 254 254 254 254 249 255 160 2 58 53 70 77 ...</td>\n",
              "    </tr>\n",
              "    <tr>\n",
              "      <th>1</th>\n",
              "      <td>156 184 198 202 204 207 210 212 213 214 215 21...</td>\n",
              "    </tr>\n",
              "    <tr>\n",
              "      <th>2</th>\n",
              "      <td>69 118 61 60 96 121 103 87 103 88 70 90 115 12...</td>\n",
              "    </tr>\n",
              "    <tr>\n",
              "      <th>3</th>\n",
              "      <td>205 203 236 157 83 158 120 116 94 86 155 180 2...</td>\n",
              "    </tr>\n",
              "    <tr>\n",
              "      <th>4</th>\n",
              "      <td>87 79 74 66 74 96 77 80 80 84 83 89 102 91 84 ...</td>\n",
              "    </tr>\n",
              "  </tbody>\n",
              "</table>\n",
              "</div>"
            ],
            "text/plain": [
              "                                              pixels\n",
              "0  254 254 254 254 254 249 255 160 2 58 53 70 77 ...\n",
              "1  156 184 198 202 204 207 210 212 213 214 215 21...\n",
              "2  69 118 61 60 96 121 103 87 103 88 70 90 115 12...\n",
              "3  205 203 236 157 83 158 120 116 94 86 155 180 2...\n",
              "4  87 79 74 66 74 96 77 80 80 84 83 89 102 91 84 ..."
            ]
          },
          "metadata": {
            "tags": []
          },
          "execution_count": 9
        }
      ]
    },
    {
      "cell_type": "markdown",
      "metadata": {
        "id": "TMRozBIWAd8C",
        "colab_type": "text"
      },
      "source": [
        "Note on the label mapping:\n",
        "\n",
        "(0=Angry, 1=Disgust, 2=Fear, 3=Happy, 4=Sad, 5=Surprise, 6=Neutral)"
      ]
    },
    {
      "cell_type": "code",
      "metadata": {
        "id": "rqzUp-dIAU3Y",
        "colab_type": "code",
        "colab": {}
      },
      "source": [
        "# Function to clean the dataset\n",
        "# Taken from http://bit.ly/37AUk7f\n",
        "def clean_data(dataframe):\n",
        "    image_pixels = np.zeros(shape=(len(dataframe), 48, 48))\n",
        "    labels = np.zeros(shape=(len(dataframe), ))\n",
        "    for (i, row) in tqdm(dataframe.iterrows()):\n",
        "        image = np.fromstring(row[\"pixels\"], dtype=int, sep=' ')\n",
        "        image = image.reshape(48, 48)\n",
        "        image = image.astype(\"float\")/255\n",
        "        \n",
        "        image_pixels[i] = image\n",
        "        labels[i] = row[\"emotion\"]\n",
        "    \n",
        "    return (image_pixels, labels)"
      ],
      "execution_count": 0,
      "outputs": []
    },
    {
      "cell_type": "code",
      "metadata": {
        "id": "KtreWITkAoSi",
        "colab_type": "code",
        "outputId": "8af74788-cba2-45b2-f5f4-1a656a409d90",
        "colab": {
          "base_uri": "https://localhost:8080/",
          "height": 51
        }
      },
      "source": [
        "# Clean the training dataset and verify the shapes\n",
        "(train_pixels, train_labels) = clean_data(train)\n",
        "train_pixels.shape, train_labels.shape"
      ],
      "execution_count": 11,
      "outputs": [
        {
          "output_type": "stream",
          "text": [
            "28709it [00:05, 5174.45it/s]\n"
          ],
          "name": "stderr"
        },
        {
          "output_type": "execute_result",
          "data": {
            "text/plain": [
              "((28709, 48, 48), (28709,))"
            ]
          },
          "metadata": {
            "tags": []
          },
          "execution_count": 11
        }
      ]
    },
    {
      "cell_type": "code",
      "metadata": {
        "id": "aaZtUxc1IKOy",
        "colab_type": "code",
        "colab": {}
      },
      "source": [
        "# sklearn and other utility imports\n",
        "from sklearn.model_selection import train_test_split\n",
        "from sklearn.preprocessing import LabelEncoder\n",
        "from tensorflow.keras.utils import to_categorical"
      ],
      "execution_count": 0,
      "outputs": []
    },
    {
      "cell_type": "code",
      "metadata": {
        "id": "QLtIOejPIkOY",
        "colab_type": "code",
        "colab": {}
      },
      "source": [
        "# One-hot encode the labels\n",
        "le = LabelEncoder().fit(train_labels)\n",
        "train_labels = to_categorical(le.transform(train_labels), 7)"
      ],
      "execution_count": 0,
      "outputs": []
    },
    {
      "cell_type": "code",
      "metadata": {
        "id": "TJAZX2B1I1q0",
        "colab_type": "code",
        "outputId": "68c751fe-4ce0-40ea-fa3b-c392829246e8",
        "colab": {
          "base_uri": "https://localhost:8080/",
          "height": 34
        }
      },
      "source": [
        "train_labels.shape"
      ],
      "execution_count": 14,
      "outputs": [
        {
          "output_type": "execute_result",
          "data": {
            "text/plain": [
              "(28709, 7)"
            ]
          },
          "metadata": {
            "tags": []
          },
          "execution_count": 14
        }
      ]
    },
    {
      "cell_type": "code",
      "metadata": {
        "id": "cFXCWLEIH2qT",
        "colab_type": "code",
        "outputId": "ca04fbee-f578-4e59-e968-a85d3dc94ac0",
        "colab": {
          "base_uri": "https://localhost:8080/",
          "height": 34
        }
      },
      "source": [
        "# Split the training data into further partial training and validation data\n",
        "(trainX, valX, trainY, valY) = train_test_split(train_pixels,\n",
        "    train_labels, test_size=0.15, stratify=train_labels, random_state=42)\n",
        "trainX.shape, trainY.shape, valX.shape, valY.shape"
      ],
      "execution_count": 15,
      "outputs": [
        {
          "output_type": "execute_result",
          "data": {
            "text/plain": [
              "((24402, 48, 48), (24402, 7), (4307, 48, 48), (4307, 7))"
            ]
          },
          "metadata": {
            "tags": []
          },
          "execution_count": 15
        }
      ]
    },
    {
      "cell_type": "code",
      "metadata": {
        "id": "g3Liy4gy-xje",
        "colab_type": "code",
        "colab": {
          "base_uri": "https://localhost:8080/",
          "height": 34
        },
        "outputId": "a91ecf2d-b37b-4558-d8f6-8133969c632a"
      },
      "source": [
        "# Serialize the data for later reproducibility\n",
        "np.save(\"trainX.npy\", trainX), np.save(\"trainY.npy\", trainY)\n",
        "np.save(\"valX.npy\", valX), np.save(\"valY.npy\", valY)"
      ],
      "execution_count": 16,
      "outputs": [
        {
          "output_type": "execute_result",
          "data": {
            "text/plain": [
              "(None, None)"
            ]
          },
          "metadata": {
            "tags": []
          },
          "execution_count": 16
        }
      ]
    },
    {
      "cell_type": "code",
      "metadata": {
        "id": "U3M0z8zoL9K8",
        "colab_type": "code",
        "colab": {
          "base_uri": "https://localhost:8080/",
          "height": 34
        },
        "outputId": "b439553c-a301-47b0-d6c3-ba89edb917d7"
      },
      "source": [
        "# Load it like this\n",
        "trainX, trainY = np.load(\"trainX.npy\"), np.load(\"trainY.npy\")\n",
        "valX, valY = np.load(\"valX.npy\"), np.load(\"valY.npy\")\n",
        "trainX.shape, trainY.shape, valX.shape, valY.shape"
      ],
      "execution_count": 17,
      "outputs": [
        {
          "output_type": "execute_result",
          "data": {
            "text/plain": [
              "((24402, 48, 48), (24402, 7), (4307, 48, 48), (4307, 7))"
            ]
          },
          "metadata": {
            "tags": []
          },
          "execution_count": 17
        }
      ]
    },
    {
      "cell_type": "code",
      "metadata": {
        "id": "j-vzxKMHHLLj",
        "colab_type": "code",
        "colab": {}
      },
      "source": [
        "# Account for skew in the labeled data\n",
        "classTotals = trainY.sum(axis=0)\n",
        "classWeight = classTotals.max() / classTotals"
      ],
      "execution_count": 0,
      "outputs": []
    },
    {
      "cell_type": "code",
      "metadata": {
        "id": "NktmFLvMMCUI",
        "colab_type": "code",
        "colab": {}
      },
      "source": [
        "# Define the label mapping\n",
        "LABELS = {\n",
        "    0: \"Angry\", \n",
        "    1: \"Disgust\", \n",
        "    2: \"Fear\",\n",
        "    3: \"Happy\", \n",
        "    4: \"Sad\", \n",
        "    5: \"Surprise\", \n",
        "    6: \"Neutral\"\n",
        "}"
      ],
      "execution_count": 0,
      "outputs": []
    },
    {
      "cell_type": "code",
      "metadata": {
        "id": "Hzuhav_kMjm5",
        "colab_type": "code",
        "outputId": "a436667c-366a-40d2-80e7-06765c4ee799",
        "colab": {
          "base_uri": "https://localhost:8080/",
          "height": 1000
        }
      },
      "source": [
        "# Spot check the dataset\n",
        "train_idx = np.random.choice(len(trainX), 5)\n",
        "for id in train_idx:\n",
        "    plt.imshow(trainX[id].reshape(48, 48), cmap=\"gray\")\n",
        "    plt.xlabel(LABELS[np.argmax(trainY[id])])\n",
        "    plt.show()"
      ],
      "execution_count": 20,
      "outputs": [
        {
          "output_type": "display_data",
          "data": {
            "image/png": "[encoded data removed]",
            "text/plain": [
              "<Figure size 432x288 with 1 Axes>"
            ]
          },
          "metadata": {
            "tags": []
          }
        },
        {
          "output_type": "display_data",
          "data": {
            "image/png": "[encoded data removed]",
            "text/plain": [
              "<Figure size 432x288 with 1 Axes>"
            ]
          },
          "metadata": {
            "tags": []
          }
        },
        {
          "output_type": "display_data",
          "data": {
            "image/png": "[encoded data removed]",
            "text/plain": [
              "<Figure size 432x288 with 1 Axes>"
            ]
          },
          "metadata": {
            "tags": []
          }
        },
        {
          "output_type": "display_data",
          "data": {
            "image/png": "[encoded data removed]",
            "text/plain": [
              "<Figure size 432x288 with 1 Axes>"
            ]
          },
          "metadata": {
            "tags": []
          }
        },
        {
          "output_type": "display_data",
          "data": {
            "image/png": "[encoded data removed]",
            "text/plain": [
              "<Figure size 432x288 with 1 Axes>"
            ]
          },
          "metadata": {
            "tags": []
          }
        }
      ]
    },
    {
      "cell_type": "markdown",
      "metadata": {
        "id": "ycW0ruOU7dD8",
        "colab_type": "text"
      },
      "source": [
        "For modeling purposes, we are going to use the following three architectures:\n",
        "- Shallow fully connected network\n",
        "- Mini InceptionNet or Mini GoogLeNet\n",
        "- Mini VGGNet\n",
        "\n",
        "For architectural details and discussions follow this article: https://www.pyimagesearch.com/2019/10/28/3-ways-to-create-a-keras-model-with-tensorflow-2-0-sequential-functional-and-model-subclassing/. "
      ]
    },
    {
      "cell_type": "code",
      "metadata": {
        "id": "9I5CZdTdJEgk",
        "colab_type": "code",
        "colab": {}
      },
      "source": [
        "# Comes from http://bit.ly/2U8ntCX\n",
        "!wget https://raw.githubusercontent.com/sayakpaul/ML-Bootcamp-Launchpad/master/pyimagesearch/models.py"
      ],
      "execution_count": 0,
      "outputs": []
    },
    {
      "cell_type": "code",
      "metadata": {
        "id": "YO_-6F86LRdi",
        "colab_type": "code",
        "colab": {}
      },
      "source": [
        "# PyImageSearch imports\n",
        "from models import MiniVGGNetModel\n",
        "from models import minigooglenet_functional\n",
        "from models import shallownet_sequential"
      ],
      "execution_count": 0,
      "outputs": []
    },
    {
      "cell_type": "code",
      "metadata": {
        "id": "0acbio2XL9za",
        "colab_type": "code",
        "colab": {}
      },
      "source": [
        "# Convnets would require a channel dimension\n",
        "trainX = trainX.reshape(-1, 48, 48, 1)\n",
        "valX = valX.reshape(-1, 48, 48, 1)"
      ],
      "execution_count": 0,
      "outputs": []
    },
    {
      "cell_type": "code",
      "metadata": {
        "id": "CUb9Vu1gNvQA",
        "colab_type": "code",
        "colab": {}
      },
      "source": [
        "# Set up wandb\n",
        "!pip install wandb\n",
        "!wandb login"
      ],
      "execution_count": 0,
      "outputs": []
    },
    {
      "cell_type": "code",
      "metadata": {
        "id": "VV-4dpBHOCsm",
        "colab_type": "code",
        "colab": {}
      },
      "source": [
        "# Import wandb\n",
        "import wandb\n",
        "from wandb.keras import WandbCallback"
      ],
      "execution_count": 0,
      "outputs": []
    },
    {
      "cell_type": "code",
      "metadata": {
        "id": "GNR-beYTQm7e",
        "colab_type": "code",
        "colab": {}
      },
      "source": [
        "# Import EarlyStopping callback\n",
        "from tensorflow.keras.callbacks import EarlyStopping"
      ],
      "execution_count": 0,
      "outputs": []
    },
    {
      "cell_type": "code",
      "metadata": {
        "id": "OTW1wT5ION74",
        "colab_type": "code",
        "outputId": "7d12c279-4e0e-4be5-8b32-94697e533431",
        "colab": {
          "base_uri": "https://localhost:8080/",
          "height": 374
        }
      },
      "source": [
        "# Train our first shallow model\n",
        "wandb.init(project=\"emotion-detection\", entity=\"sayakpaul\", id=\"shallow-convnet\")\n",
        "shallow_model = shallownet_sequential(48, 48, 1, len(LABELS))\n",
        "shallow_model.compile(loss=\"categorical_crossentropy\", optimizer=\"adam\",\n",
        "\tmetrics=[\"accuracy\"])\n",
        "shallow_model.fit(trainX, trainY,  validation_data=(valX, valY), epochs=50,\n",
        "    class_weight=classWeight,\n",
        "    callbacks=[WandbCallback(data_type=\"image\", labels=LABELS),\n",
        "               EarlyStopping(patience=5, restore_best_weights=True)])"
      ],
      "execution_count": 28,
      "outputs": [
        {
          "output_type": "display_data",
          "data": {
            "text/html": [
              "\n",
              "                Logging results to <a href=\"https://wandb.com\" target=\"_blank\">Weights & Biases</a> <a href=\"https://docs.wandb.com/integrations/jupyter.html\" target=\"_blank\">(Documentation)</a>.<br/>\n",
              "                Project page: <a href=\"https://app.wandb.ai/sayakpaul/emotion-detection\" target=\"_blank\">https://app.wandb.ai/sayakpaul/emotion-detection</a><br/>\n",
              "                Run page: <a href=\"https://app.wandb.ai/sayakpaul/emotion-detection/runs/shallow-convnet\" target=\"_blank\">https://app.wandb.ai/sayakpaul/emotion-detection/runs/shallow-convnet</a><br/>\n",
              "            "
            ],
            "text/plain": [
              "<IPython.core.display.HTML object>"
            ]
          },
          "metadata": {
            "tags": []
          }
        },
        {
          "output_type": "stream",
          "text": [
            "Train on 24402 samples, validate on 4307 samples\n",
            "Epoch 1/50\n",
            "24402/24402 [==============================] - 12s 473us/sample - loss: 1.6707 - accuracy: 0.3496 - val_loss: 1.5725 - val_accuracy: 0.4086\n",
            "Epoch 2/50\n",
            "24402/24402 [==============================] - 4s 161us/sample - loss: 1.4411 - accuracy: 0.4560 - val_loss: 1.5159 - val_accuracy: 0.4191\n",
            "Epoch 3/50\n",
            "24402/24402 [==============================] - 4s 166us/sample - loss: 1.3046 - accuracy: 0.5113 - val_loss: 1.5106 - val_accuracy: 0.4305\n",
            "Epoch 4/50\n",
            "24402/24402 [==============================] - 4s 160us/sample - loss: 1.1790 - accuracy: 0.5676 - val_loss: 1.5131 - val_accuracy: 0.4418\n",
            "Epoch 5/50\n",
            "24402/24402 [==============================] - 4s 166us/sample - loss: 1.0693 - accuracy: 0.6138 - val_loss: 1.5360 - val_accuracy: 0.4514\n",
            "Epoch 6/50\n",
            "24402/24402 [==============================] - 4s 162us/sample - loss: 0.9691 - accuracy: 0.6528 - val_loss: 1.5535 - val_accuracy: 0.4518\n",
            "Epoch 7/50\n",
            "24402/24402 [==============================] - 4s 163us/sample - loss: 0.8797 - accuracy: 0.6897 - val_loss: 1.6330 - val_accuracy: 0.4418\n",
            "Epoch 8/50\n",
            "24402/24402 [==============================] - 4s 165us/sample - loss: 0.7924 - accuracy: 0.7253 - val_loss: 1.6849 - val_accuracy: 0.4479\n"
          ],
          "name": "stdout"
        },
        {
          "output_type": "execute_result",
          "data": {
            "text/plain": [
              "<tensorflow.python.keras.callbacks.History at 0x7fd3003243c8>"
            ]
          },
          "metadata": {
            "tags": []
          },
          "execution_count": 28
        }
      ]
    },
    {
      "cell_type": "markdown",
      "metadata": {
        "id": "Mf8xrKWb74sO",
        "colab_type": "text"
      },
      "source": [
        "The model terribly overfits. Let's try out the other variants. "
      ]
    },
    {
      "cell_type": "code",
      "metadata": {
        "id": "gL6i8OS3PFwr",
        "colab_type": "code",
        "outputId": "5f5e6143-25dc-4606-e7f2-6913f4c0f31a",
        "colab": {
          "base_uri": "https://localhost:8080/",
          "height": 544
        }
      },
      "source": [
        "# Train a mini inception net\n",
        "wandb.init(project=\"emotion-detection\", entity=\"sayakpaul\", id=\"miniinception-net\")\n",
        "inception_net = minigooglenet_functional(48, 48, 1, len(LABELS))\n",
        "inception_net.compile(loss=\"categorical_crossentropy\", optimizer=\"adam\",\n",
        "\tmetrics=[\"accuracy\"])\n",
        "inception_net.fit(trainX, trainY,  validation_data=(valX, valY), epochs=50,\n",
        "    class_weight=classWeight,\n",
        "    callbacks=[WandbCallback(data_type=\"image\", labels=LABELS),\n",
        "               EarlyStopping(patience=5, restore_best_weights=True)])"
      ],
      "execution_count": 29,
      "outputs": [
        {
          "output_type": "display_data",
          "data": {
            "text/html": [
              "\n",
              "                Logging results to <a href=\"https://wandb.com\" target=\"_blank\">Weights & Biases</a> <a href=\"https://docs.wandb.com/integrations/jupyter.html\" target=\"_blank\">(Documentation)</a>.<br/>\n",
              "                Project page: <a href=\"https://app.wandb.ai/sayakpaul/emotion-detection\" target=\"_blank\">https://app.wandb.ai/sayakpaul/emotion-detection</a><br/>\n",
              "                Run page: <a href=\"https://app.wandb.ai/sayakpaul/emotion-detection/runs/miniinception-net\" target=\"_blank\">https://app.wandb.ai/sayakpaul/emotion-detection/runs/miniinception-net</a><br/>\n",
              "            "
            ],
            "text/plain": [
              "<IPython.core.display.HTML object>"
            ]
          },
          "metadata": {
            "tags": []
          }
        },
        {
          "output_type": "stream",
          "text": [
            "Train on 24402 samples, validate on 4307 samples\n",
            "Epoch 1/50\n",
            "24402/24402 [==============================] - 44s 2ms/sample - loss: 1.6965 - accuracy: 0.3152 - val_loss: 1.5769 - val_accuracy: 0.3875\n",
            "Epoch 2/50\n",
            "24402/24402 [==============================] - 39s 2ms/sample - loss: 1.3275 - accuracy: 0.4958 - val_loss: 1.3844 - val_accuracy: 0.4662\n",
            "Epoch 3/50\n",
            "24402/24402 [==============================] - 40s 2ms/sample - loss: 1.1703 - accuracy: 0.5587 - val_loss: 1.2896 - val_accuracy: 0.4999\n",
            "Epoch 4/50\n",
            "24402/24402 [==============================] - 41s 2ms/sample - loss: 1.0896 - accuracy: 0.5936 - val_loss: 1.2456 - val_accuracy: 0.5342\n",
            "Epoch 5/50\n",
            "24402/24402 [==============================] - 40s 2ms/sample - loss: 1.0178 - accuracy: 0.6194 - val_loss: 1.1717 - val_accuracy: 0.5603\n",
            "Epoch 6/50\n",
            "24402/24402 [==============================] - 40s 2ms/sample - loss: 0.9557 - accuracy: 0.6415 - val_loss: 1.1800 - val_accuracy: 0.5828\n",
            "Epoch 7/50\n",
            "24402/24402 [==============================] - 41s 2ms/sample - loss: 0.8832 - accuracy: 0.6724 - val_loss: 1.1609 - val_accuracy: 0.5888\n",
            "Epoch 8/50\n",
            "24402/24402 [==============================] - 41s 2ms/sample - loss: 0.8021 - accuracy: 0.7003 - val_loss: 1.1564 - val_accuracy: 0.5811\n",
            "Epoch 9/50\n",
            "24402/24402 [==============================] - 39s 2ms/sample - loss: 0.7159 - accuracy: 0.7353 - val_loss: 1.2120 - val_accuracy: 0.5809\n",
            "Epoch 10/50\n",
            "24402/24402 [==============================] - 39s 2ms/sample - loss: 0.6127 - accuracy: 0.7717 - val_loss: 1.4091 - val_accuracy: 0.5765\n",
            "Epoch 11/50\n",
            "24402/24402 [==============================] - 39s 2ms/sample - loss: 0.5014 - accuracy: 0.8158 - val_loss: 1.5350 - val_accuracy: 0.5498\n",
            "Epoch 12/50\n",
            "24402/24402 [==============================] - 39s 2ms/sample - loss: 0.3952 - accuracy: 0.8548 - val_loss: 1.7404 - val_accuracy: 0.5633\n",
            "Epoch 13/50\n",
            "24402/24402 [==============================] - 39s 2ms/sample - loss: 0.3208 - accuracy: 0.8818 - val_loss: 1.7900 - val_accuracy: 0.5010\n"
          ],
          "name": "stdout"
        },
        {
          "output_type": "execute_result",
          "data": {
            "text/plain": [
              "<tensorflow.python.keras.callbacks.History at 0x7fd2e9622cc0>"
            ]
          },
          "metadata": {
            "tags": []
          },
          "execution_count": 29
        }
      ]
    },
    {
      "cell_type": "code",
      "metadata": {
        "id": "mCHL0j3-SDYh",
        "colab_type": "code",
        "outputId": "57a962cc-8a4c-4d2e-d73f-552b627ec7ef",
        "colab": {
          "base_uri": "https://localhost:8080/",
          "height": 513
        }
      },
      "source": [
        "# Train a mini VGG net\n",
        "wandb.init(project=\"emotion-detection\", entity=\"sayakpaul\", id=\"mini-vgg-net\")\n",
        "vgg_net = MiniVGGNetModel(len(LABELS))\n",
        "vgg_net.compile(loss=\"categorical_crossentropy\", optimizer=\"adam\",\n",
        "\tmetrics=[\"accuracy\"])\n",
        "vgg_net.fit(trainX, trainY,  validation_data=(valX, valY), epochs=50,\n",
        "    class_weight=classWeight,\n",
        "    callbacks=[WandbCallback(data_type=\"image\", labels=LABELS),\n",
        "               EarlyStopping(patience=5, restore_best_weights=True)])"
      ],
      "execution_count": 30,
      "outputs": [
        {
          "output_type": "display_data",
          "data": {
            "text/html": [
              "\n",
              "                Logging results to <a href=\"https://wandb.com\" target=\"_blank\">Weights & Biases</a> <a href=\"https://docs.wandb.com/integrations/jupyter.html\" target=\"_blank\">(Documentation)</a>.<br/>\n",
              "                Project page: <a href=\"https://app.wandb.ai/sayakpaul/emotion-detection\" target=\"_blank\">https://app.wandb.ai/sayakpaul/emotion-detection</a><br/>\n",
              "                Run page: <a href=\"https://app.wandb.ai/sayakpaul/emotion-detection/runs/mini-vgg-net\" target=\"_blank\">https://app.wandb.ai/sayakpaul/emotion-detection/runs/mini-vgg-net</a><br/>\n",
              "            "
            ],
            "text/plain": [
              "<IPython.core.display.HTML object>"
            ]
          },
          "metadata": {
            "tags": []
          }
        },
        {
          "output_type": "stream",
          "text": [
            "Train on 24402 samples, validate on 4307 samples\n",
            "Epoch 1/50\n",
            "24224/24402 [============================>.] - ETA: 0s - loss: 1.8384 - accuracy: 0.3645"
          ],
          "name": "stdout"
        },
        {
          "output_type": "stream",
          "text": [
            "wandb: ERROR Can't save model, h5py returned error: Saving the model to HDF5 format requires the model to be a Functional model or a Sequential model. It does not work for subclassed models, because such models are defined via the body of a Python method, which isn't safely serializable. Consider saving to the Tensorflow SavedModel format (by setting save_format=\"tf\") or using `save_weights`.\n"
          ],
          "name": "stderr"
        },
        {
          "output_type": "stream",
          "text": [
            "24402/24402 [==============================] - 9s 357us/sample - loss: 1.8358 - accuracy: 0.3650 - val_loss: 1.4292 - val_accuracy: 0.4574\n",
            "Epoch 2/50\n",
            "24402/24402 [==============================] - 7s 293us/sample - loss: 1.3762 - accuracy: 0.4754 - val_loss: 1.4673 - val_accuracy: 0.4541\n",
            "Epoch 3/50\n",
            "24402/24402 [==============================] - 7s 295us/sample - loss: 1.2610 - accuracy: 0.5232 - val_loss: 1.3198 - val_accuracy: 0.5013\n",
            "Epoch 4/50\n",
            "24402/24402 [==============================] - 7s 300us/sample - loss: 1.1733 - accuracy: 0.5597 - val_loss: 1.2651 - val_accuracy: 0.5168\n",
            "Epoch 5/50\n",
            "24402/24402 [==============================] - 8s 311us/sample - loss: 1.1138 - accuracy: 0.5832 - val_loss: 1.2914 - val_accuracy: 0.5226\n",
            "Epoch 6/50\n",
            "24402/24402 [==============================] - 8s 319us/sample - loss: 1.0487 - accuracy: 0.6077 - val_loss: 1.2543 - val_accuracy: 0.5289\n",
            "Epoch 7/50\n",
            "24402/24402 [==============================] - 8s 308us/sample - loss: 0.9866 - accuracy: 0.6324 - val_loss: 1.3595 - val_accuracy: 0.5326\n",
            "Epoch 8/50\n",
            "24402/24402 [==============================] - 7s 294us/sample - loss: 0.9214 - accuracy: 0.6550 - val_loss: 1.3650 - val_accuracy: 0.5055\n",
            "Epoch 9/50\n",
            "24402/24402 [==============================] - 7s 292us/sample - loss: 0.8487 - accuracy: 0.6855 - val_loss: 1.3354 - val_accuracy: 0.5396\n",
            "Epoch 10/50\n",
            "24402/24402 [==============================] - 7s 300us/sample - loss: 0.7553 - accuracy: 0.7226 - val_loss: 1.4107 - val_accuracy: 0.5245\n",
            "Epoch 11/50\n",
            "24402/24402 [==============================] - 7s 305us/sample - loss: 0.6755 - accuracy: 0.7534 - val_loss: 1.4790 - val_accuracy: 0.5493\n"
          ],
          "name": "stdout"
        },
        {
          "output_type": "execute_result",
          "data": {
            "text/plain": [
              "<tensorflow.python.keras.callbacks.History at 0x7fd315be76d8>"
            ]
          },
          "metadata": {
            "tags": []
          },
          "execution_count": 30
        }
      ]
    },
    {
      "cell_type": "code",
      "metadata": {
        "id": "xeJ-1Ac3X5uL",
        "colab_type": "code",
        "colab": {}
      },
      "source": [
        "# Instantiate a data augmentation pipeline\n",
        "from tensorflow.keras.preprocessing.image import ImageDataGenerator\n",
        "\n",
        "train_aug = ImageDataGenerator(zoom_range=0.15,\n",
        "\twidth_shift_range=0.2, height_shift_range=0.2)\n",
        "val_aug = ImageDataGenerator()"
      ],
      "execution_count": 0,
      "outputs": []
    },
    {
      "cell_type": "code",
      "metadata": {
        "id": "9YevbwwSYbdd",
        "colab_type": "code",
        "outputId": "0c4bf65a-2068-49ea-f3d7-6c9d6ff644fc",
        "colab": {
          "base_uri": "https://localhost:8080/",
          "height": 1000
        }
      },
      "source": [
        "# Train a mini VGG net with data augmentation & SGD\n",
        "wandb.init(project=\"emotion-detection\", entity=\"sayakpaul\", id=\"mini-vgg-net-da-sgd\")\n",
        "vgg_net = MiniVGGNetModel(len(LABELS))\n",
        "vgg_net.compile(loss=\"categorical_crossentropy\", optimizer=\"sgd\",\n",
        "\tmetrics=[\"accuracy\"])\n",
        "vgg_net.fit(train_aug.flow(trainX, trainY, batch_size=64),\n",
        "    steps_per_epoch=np.ceil(len(trainX)/64),\n",
        "    validation_data=val_aug.flow(valX, valY, batch_size=64), \n",
        "    validation_steps=np.ceil(len(valX)/64) ,\n",
        "    epochs=50,\n",
        "    class_weight=classWeight,\n",
        "    callbacks=[WandbCallback(data_type=\"image\", validation_data=(valX, valY), labels=LABELS),\n",
        "               EarlyStopping(patience=5, restore_best_weights=True)])"
      ],
      "execution_count": 32,
      "outputs": [
        {
          "output_type": "display_data",
          "data": {
            "text/html": [
              "\n",
              "                Logging results to <a href=\"https://wandb.com\" target=\"_blank\">Weights & Biases</a> <a href=\"https://docs.wandb.com/integrations/jupyter.html\" target=\"_blank\">(Documentation)</a>.<br/>\n",
              "                Project page: <a href=\"https://app.wandb.ai/sayakpaul/emotion-detection\" target=\"_blank\">https://app.wandb.ai/sayakpaul/emotion-detection</a><br/>\n",
              "                Run page: <a href=\"https://app.wandb.ai/sayakpaul/emotion-detection/runs/mini-vgg-net-da-sgd\" target=\"_blank\">https://app.wandb.ai/sayakpaul/emotion-detection/runs/mini-vgg-net-da-sgd</a><br/>\n",
              "            "
            ],
            "text/plain": [
              "<IPython.core.display.HTML object>"
            ]
          },
          "metadata": {
            "tags": []
          }
        },
        {
          "output_type": "stream",
          "text": [
            "WARNING:tensorflow:From <ipython-input-32-2892580624a1>:12: Model.fit_generator (from tensorflow.python.keras.engine.training) is deprecated and will be removed in a future version.\n",
            "Instructions for updating:\n",
            "Please use Model.fit, which supports generators.\n",
            "WARNING:tensorflow:sample_weight modes were coerced from\n",
            "  ...\n",
            "    to  \n",
            "  ['...']\n",
            "Train for 382.0 steps, validate for 68.0 steps\n",
            "Epoch 1/50\n",
            "381/382 [============================>.] - ETA: 0s - loss: 2.4246 - accuracy: 0.1944"
          ],
          "name": "stdout"
        },
        {
          "output_type": "stream",
          "text": [
            "wandb: ERROR Can't save model, h5py returned error: Saving the model to HDF5 format requires the model to be a Functional model or a Sequential model. It does not work for subclassed models, because such models are defined via the body of a Python method, which isn't safely serializable. Consider saving to the Tensorflow SavedModel format (by setting save_format=\"tf\") or using `save_weights`.\n"
          ],
          "name": "stderr"
        },
        {
          "output_type": "stream",
          "text": [
            "382/382 [==============================] - 12s 31ms/step - loss: 2.4240 - accuracy: 0.1945 - val_loss: 1.8179 - val_accuracy: 0.2719\n",
            "Epoch 2/50\n",
            "382/382 [==============================] - 11s 28ms/step - loss: 1.9648 - accuracy: 0.2374 - val_loss: 1.7142 - val_accuracy: 0.3169\n",
            "Epoch 3/50\n",
            "382/382 [==============================] - 11s 28ms/step - loss: 1.8344 - accuracy: 0.2634 - val_loss: 1.7271 - val_accuracy: 0.3139\n",
            "Epoch 4/50\n",
            "382/382 [==============================] - 11s 28ms/step - loss: 1.7871 - accuracy: 0.2818 - val_loss: 1.6877 - val_accuracy: 0.3320\n",
            "Epoch 5/50\n",
            "382/382 [==============================] - 11s 30ms/step - loss: 1.7530 - accuracy: 0.2958 - val_loss: 1.6843 - val_accuracy: 0.3313\n",
            "Epoch 6/50\n",
            "382/382 [==============================] - 11s 28ms/step - loss: 1.7362 - accuracy: 0.3001 - val_loss: 1.8613 - val_accuracy: 0.2433\n",
            "Epoch 7/50\n",
            "382/382 [==============================] - 11s 28ms/step - loss: 1.7115 - accuracy: 0.3135 - val_loss: 1.6153 - val_accuracy: 0.3696\n",
            "Epoch 8/50\n",
            "382/382 [==============================] - 10s 27ms/step - loss: 1.6883 - accuracy: 0.3288 - val_loss: 1.7212 - val_accuracy: 0.3234\n",
            "Epoch 9/50\n",
            "382/382 [==============================] - 11s 28ms/step - loss: 1.6699 - accuracy: 0.3385 - val_loss: 1.5927 - val_accuracy: 0.3752\n",
            "Epoch 10/50\n",
            "382/382 [==============================] - 11s 27ms/step - loss: 1.6517 - accuracy: 0.3463 - val_loss: 1.6795 - val_accuracy: 0.3436\n",
            "Epoch 11/50\n",
            "382/382 [==============================] - 11s 28ms/step - loss: 1.6377 - accuracy: 0.3519 - val_loss: 1.5765 - val_accuracy: 0.3829\n",
            "Epoch 12/50\n",
            "382/382 [==============================] - 11s 28ms/step - loss: 1.6199 - accuracy: 0.3631 - val_loss: 1.6696 - val_accuracy: 0.3464\n",
            "Epoch 13/50\n",
            "382/382 [==============================] - 10s 26ms/step - loss: 1.6039 - accuracy: 0.3714 - val_loss: 1.5280 - val_accuracy: 0.4077\n",
            "Epoch 14/50\n",
            "382/382 [==============================] - 10s 27ms/step - loss: 1.5913 - accuracy: 0.3793 - val_loss: 1.5138 - val_accuracy: 0.4065\n",
            "Epoch 15/50\n",
            "382/382 [==============================] - 10s 26ms/step - loss: 1.5771 - accuracy: 0.3824 - val_loss: 1.4977 - val_accuracy: 0.4226\n",
            "Epoch 16/50\n",
            "382/382 [==============================] - 10s 26ms/step - loss: 1.5582 - accuracy: 0.3947 - val_loss: 1.5228 - val_accuracy: 0.4163\n",
            "Epoch 17/50\n",
            "382/382 [==============================] - 11s 28ms/step - loss: 1.5468 - accuracy: 0.3974 - val_loss: 1.4815 - val_accuracy: 0.4409\n",
            "Epoch 18/50\n",
            "382/382 [==============================] - 10s 26ms/step - loss: 1.5415 - accuracy: 0.4022 - val_loss: 1.5061 - val_accuracy: 0.4321\n",
            "Epoch 19/50\n",
            "382/382 [==============================] - 11s 29ms/step - loss: 1.5259 - accuracy: 0.4119 - val_loss: 1.4449 - val_accuracy: 0.4451\n",
            "Epoch 20/50\n",
            "382/382 [==============================] - 11s 30ms/step - loss: 1.5020 - accuracy: 0.4208 - val_loss: 1.3686 - val_accuracy: 0.4799\n",
            "Epoch 21/50\n",
            "382/382 [==============================] - 11s 28ms/step - loss: 1.4920 - accuracy: 0.4219 - val_loss: 1.6666 - val_accuracy: 0.3845\n",
            "Epoch 22/50\n",
            "382/382 [==============================] - 11s 28ms/step - loss: 1.4888 - accuracy: 0.4262 - val_loss: 1.3647 - val_accuracy: 0.4797\n",
            "Epoch 23/50\n",
            "382/382 [==============================] - 11s 28ms/step - loss: 1.4730 - accuracy: 0.4308 - val_loss: 1.3968 - val_accuracy: 0.4611\n",
            "Epoch 24/50\n",
            "382/382 [==============================] - 11s 28ms/step - loss: 1.4595 - accuracy: 0.4391 - val_loss: 1.3939 - val_accuracy: 0.4690\n",
            "Epoch 25/50\n",
            "382/382 [==============================] - 11s 29ms/step - loss: 1.4499 - accuracy: 0.4430 - val_loss: 1.3534 - val_accuracy: 0.4857\n",
            "Epoch 26/50\n",
            "382/382 [==============================] - 11s 29ms/step - loss: 1.4330 - accuracy: 0.4499 - val_loss: 1.3991 - val_accuracy: 0.4634\n",
            "Epoch 27/50\n",
            "382/382 [==============================] - 11s 29ms/step - loss: 1.4255 - accuracy: 0.4528 - val_loss: 1.3411 - val_accuracy: 0.4795\n",
            "Epoch 28/50\n",
            "382/382 [==============================] - 11s 30ms/step - loss: 1.4162 - accuracy: 0.4568 - val_loss: 1.3423 - val_accuracy: 0.4860\n",
            "Epoch 29/50\n",
            "382/382 [==============================] - 11s 29ms/step - loss: 1.4104 - accuracy: 0.4558 - val_loss: 1.4644 - val_accuracy: 0.4451\n",
            "Epoch 30/50\n",
            "382/382 [==============================] - 11s 28ms/step - loss: 1.3986 - accuracy: 0.4616 - val_loss: 1.3625 - val_accuracy: 0.4750\n",
            "Epoch 31/50\n",
            "382/382 [==============================] - 11s 30ms/step - loss: 1.3896 - accuracy: 0.4650 - val_loss: 1.4042 - val_accuracy: 0.4602\n",
            "Epoch 32/50\n",
            "382/382 [==============================] - 11s 29ms/step - loss: 1.3835 - accuracy: 0.4690 - val_loss: 1.2962 - val_accuracy: 0.5080\n",
            "Epoch 33/50\n",
            "382/382 [==============================] - 11s 29ms/step - loss: 1.3805 - accuracy: 0.4702 - val_loss: 1.2974 - val_accuracy: 0.5113\n",
            "Epoch 34/50\n",
            "382/382 [==============================] - 11s 30ms/step - loss: 1.3705 - accuracy: 0.4748 - val_loss: 1.2950 - val_accuracy: 0.5143\n",
            "Epoch 35/50\n",
            "382/382 [==============================] - 11s 28ms/step - loss: 1.3601 - accuracy: 0.4810 - val_loss: 1.3093 - val_accuracy: 0.5043\n",
            "Epoch 36/50\n",
            "382/382 [==============================] - 11s 29ms/step - loss: 1.3541 - accuracy: 0.4804 - val_loss: 1.2576 - val_accuracy: 0.5205\n",
            "Epoch 37/50\n",
            "382/382 [==============================] - 11s 29ms/step - loss: 1.3541 - accuracy: 0.4802 - val_loss: 1.2411 - val_accuracy: 0.5287\n",
            "Epoch 38/50\n",
            "382/382 [==============================] - 11s 28ms/step - loss: 1.3439 - accuracy: 0.4851 - val_loss: 1.2712 - val_accuracy: 0.5224\n",
            "Epoch 39/50\n",
            "382/382 [==============================] - 11s 29ms/step - loss: 1.3298 - accuracy: 0.4912 - val_loss: 1.2603 - val_accuracy: 0.5166\n",
            "Epoch 40/50\n",
            "382/382 [==============================] - 11s 29ms/step - loss: 1.3317 - accuracy: 0.4909 - val_loss: 1.3448 - val_accuracy: 0.4885\n",
            "Epoch 41/50\n",
            "382/382 [==============================] - 11s 29ms/step - loss: 1.3273 - accuracy: 0.4898 - val_loss: 1.2945 - val_accuracy: 0.5152\n",
            "Epoch 42/50\n",
            "382/382 [==============================] - 11s 30ms/step - loss: 1.3227 - accuracy: 0.4928 - val_loss: 1.2356 - val_accuracy: 0.5387\n",
            "Epoch 43/50\n",
            "382/382 [==============================] - 11s 29ms/step - loss: 1.3182 - accuracy: 0.5002 - val_loss: 1.2284 - val_accuracy: 0.5391\n",
            "Epoch 44/50\n",
            "382/382 [==============================] - 12s 31ms/step - loss: 1.3119 - accuracy: 0.4982 - val_loss: 1.2236 - val_accuracy: 0.5361\n",
            "Epoch 45/50\n",
            "382/382 [==============================] - 11s 29ms/step - loss: 1.3091 - accuracy: 0.4986 - val_loss: 1.2615 - val_accuracy: 0.5226\n",
            "Epoch 46/50\n",
            "382/382 [==============================] - 11s 30ms/step - loss: 1.2983 - accuracy: 0.5039 - val_loss: 1.2487 - val_accuracy: 0.5277\n",
            "Epoch 47/50\n",
            "382/382 [==============================] - 11s 29ms/step - loss: 1.2993 - accuracy: 0.4996 - val_loss: 1.2813 - val_accuracy: 0.5161\n",
            "Epoch 48/50\n",
            "382/382 [==============================] - 11s 29ms/step - loss: 1.2956 - accuracy: 0.5029 - val_loss: 1.2040 - val_accuracy: 0.5445\n",
            "Epoch 49/50\n",
            "382/382 [==============================] - 11s 29ms/step - loss: 1.2876 - accuracy: 0.5094 - val_loss: 1.2028 - val_accuracy: 0.5505\n",
            "Epoch 50/50\n",
            "382/382 [==============================] - 11s 29ms/step - loss: 1.2866 - accuracy: 0.5129 - val_loss: 1.1831 - val_accuracy: 0.5572\n"
          ],
          "name": "stdout"
        },
        {
          "output_type": "execute_result",
          "data": {
            "text/plain": [
              "<tensorflow.python.keras.callbacks.History at 0x7fd318f20ac8>"
            ]
          },
          "metadata": {
            "tags": []
          },
          "execution_count": 32
        }
      ]
    },
    {
      "cell_type": "markdown",
      "metadata": {
        "id": "X2Wjv-Lh7NyB",
        "colab_type": "text"
      },
      "source": [
        "Let's train the network with cylical learning rates. You can learn more about it from here: https://www.pyimagesearch.com/2019/07/29/cyclical-learning-rates-with-keras-and-deep-learning/. "
      ]
    },
    {
      "cell_type": "code",
      "metadata": {
        "id": "ivyZ_A8bY1j_",
        "colab_type": "code",
        "colab": {}
      },
      "source": [
        "# Get the CLR callback\n",
        "!wget https://raw.githubusercontent.com/sayakpaul/ML-Bootcamp-Launchpad/master/pyimagesearch/clr_callback.py"
      ],
      "execution_count": 0,
      "outputs": []
    },
    {
      "cell_type": "code",
      "metadata": {
        "id": "u4_UiMRkbXV6",
        "colab_type": "code",
        "colab": {}
      },
      "source": [
        "from clr_callback import CyclicLR"
      ],
      "execution_count": 0,
      "outputs": []
    },
    {
      "cell_type": "code",
      "metadata": {
        "id": "Lsq8SjHebmUq",
        "colab_type": "code",
        "colab": {}
      },
      "source": [
        "# Compute the step size and initialize the cyclic learning\n",
        "# rate method\n",
        "step_size = 8 * np.ceil(len(trainX)//64)\n",
        "clr = CyclicLR(\n",
        "\tmode=\"triangular\",\n",
        "\tbase_lr=1e-5,\n",
        "\tmax_lr=1e-3,\n",
        "\tstep_size=step_size)"
      ],
      "execution_count": 0,
      "outputs": []
    },
    {
      "cell_type": "code",
      "metadata": {
        "id": "9bLPNYS7cObC",
        "colab_type": "code",
        "outputId": "9fe5b9ff-3316-416b-8909-6eb0b1f1d882",
        "colab": {
          "base_uri": "https://localhost:8080/",
          "height": 1000
        }
      },
      "source": [
        "# Train a mini VGG net with data augmentation, SGD & CLR\n",
        "wandb.init(project=\"emotion-detection\", entity=\"sayakpaul\", id=\"mini-vgg-net-daug-sgd-clr\")\n",
        "vgg_net = MiniVGGNetModel(len(LABELS))\n",
        "vgg_net.compile(loss=\"categorical_crossentropy\", optimizer=\"sgd\",\n",
        "\tmetrics=[\"accuracy\"])\n",
        "vgg_net.fit(train_aug.flow(trainX, trainY, batch_size=64),\n",
        "    steps_per_epoch=np.ceil(len(trainX)/64),\n",
        "    validation_data=val_aug.flow(valX, valY, batch_size=64), \n",
        "    validation_steps=np.ceil(len(valX)/64) ,\n",
        "    epochs=50,\n",
        "    class_weight=classWeight,\n",
        "    callbacks=[WandbCallback(data_type=\"image\", validation_data=(valX, valY), labels=LABELS),\n",
        "    EarlyStopping(patience=5, restore_best_weights=True),\n",
        "    clr])"
      ],
      "execution_count": 37,
      "outputs": [
        {
          "output_type": "display_data",
          "data": {
            "text/html": [
              "\n",
              "                Logging results to <a href=\"https://wandb.com\" target=\"_blank\">Weights & Biases</a> <a href=\"https://docs.wandb.com/integrations/jupyter.html\" target=\"_blank\">(Documentation)</a>.<br/>\n",
              "                Project page: <a href=\"https://app.wandb.ai/sayakpaul/emotion-detection\" target=\"_blank\">https://app.wandb.ai/sayakpaul/emotion-detection</a><br/>\n",
              "                Run page: <a href=\"https://app.wandb.ai/sayakpaul/emotion-detection/runs/mini-vgg-net-daug-sgd-clr\" target=\"_blank\">https://app.wandb.ai/sayakpaul/emotion-detection/runs/mini-vgg-net-daug-sgd-clr</a><br/>\n",
              "            "
            ],
            "text/plain": [
              "<IPython.core.display.HTML object>"
            ]
          },
          "metadata": {
            "tags": []
          }
        },
        {
          "output_type": "stream",
          "text": [
            "WARNING:tensorflow:sample_weight modes were coerced from\n",
            "  ...\n",
            "    to  \n",
            "  ['...']\n",
            "Train for 382.0 steps, validate for 68.0 steps\n",
            "Epoch 1/50\n",
            "381/382 [============================>.] - ETA: 0s - loss: 3.1788 - accuracy: 0.1455"
          ],
          "name": "stdout"
        },
        {
          "output_type": "stream",
          "text": [
            "wandb: ERROR Can't save model, h5py returned error: Saving the model to HDF5 format requires the model to be a Functional model or a Sequential model. It does not work for subclassed models, because such models are defined via the body of a Python method, which isn't safely serializable. Consider saving to the Tensorflow SavedModel format (by setting save_format=\"tf\") or using `save_weights`.\n"
          ],
          "name": "stderr"
        },
        {
          "output_type": "stream",
          "text": [
            "382/382 [==============================] - 12s 31ms/step - loss: 3.1783 - accuracy: 0.1457 - val_loss: 2.0538 - val_accuracy: 0.2097\n",
            "Epoch 2/50\n",
            "382/382 [==============================] - 10s 27ms/step - loss: 3.0211 - accuracy: 0.1590 - val_loss: 2.4739 - val_accuracy: 0.2034\n",
            "Epoch 3/50\n",
            "382/382 [==============================] - 10s 27ms/step - loss: 2.8765 - accuracy: 0.1718 - val_loss: 2.3809 - val_accuracy: 0.2141\n",
            "Epoch 4/50\n",
            "382/382 [==============================] - 10s 27ms/step - loss: 2.7644 - accuracy: 0.1762 - val_loss: 2.3144 - val_accuracy: 0.2113\n",
            "Epoch 5/50\n",
            "382/382 [==============================] - 10s 27ms/step - loss: 2.6537 - accuracy: 0.1874 - val_loss: 2.0491 - val_accuracy: 0.2703\n",
            "Epoch 6/50\n",
            "382/382 [==============================] - 11s 28ms/step - loss: 2.5536 - accuracy: 0.1897 - val_loss: 2.0896 - val_accuracy: 0.2266\n",
            "Epoch 7/50\n",
            "382/382 [==============================] - 10s 27ms/step - loss: 2.4507 - accuracy: 0.1992 - val_loss: 1.9503 - val_accuracy: 0.2986\n",
            "Epoch 8/50\n",
            "382/382 [==============================] - 10s 26ms/step - loss: 2.3656 - accuracy: 0.2081 - val_loss: 2.1026 - val_accuracy: 0.2779\n",
            "Epoch 9/50\n",
            "382/382 [==============================] - 10s 27ms/step - loss: 2.2921 - accuracy: 0.2144 - val_loss: 1.8722 - val_accuracy: 0.2967\n",
            "Epoch 10/50\n",
            "382/382 [==============================] - 10s 26ms/step - loss: 2.2169 - accuracy: 0.2242 - val_loss: 1.9339 - val_accuracy: 0.2986\n",
            "Epoch 11/50\n",
            "382/382 [==============================] - 10s 26ms/step - loss: 2.1774 - accuracy: 0.2288 - val_loss: 1.7625 - val_accuracy: 0.3244\n",
            "Epoch 12/50\n",
            "382/382 [==============================] - 10s 27ms/step - loss: 2.1497 - accuracy: 0.2261 - val_loss: 1.7590 - val_accuracy: 0.3297\n",
            "Epoch 13/50\n",
            "382/382 [==============================] - 10s 27ms/step - loss: 2.1153 - accuracy: 0.2377 - val_loss: 1.7525 - val_accuracy: 0.3364\n",
            "Epoch 14/50\n",
            "382/382 [==============================] - 10s 26ms/step - loss: 2.0841 - accuracy: 0.2477 - val_loss: 1.7242 - val_accuracy: 0.3429\n",
            "Epoch 15/50\n",
            "382/382 [==============================] - 11s 28ms/step - loss: 2.0784 - accuracy: 0.2428 - val_loss: 1.7184 - val_accuracy: 0.3446\n",
            "Epoch 16/50\n",
            "382/382 [==============================] - 10s 27ms/step - loss: 2.0702 - accuracy: 0.2485 - val_loss: 1.7143 - val_accuracy: 0.3401\n",
            "Epoch 17/50\n",
            "382/382 [==============================] - 10s 27ms/step - loss: 2.0630 - accuracy: 0.2500 - val_loss: 1.7245 - val_accuracy: 0.3381\n",
            "Epoch 18/50\n",
            "382/382 [==============================] - 11s 30ms/step - loss: 2.0570 - accuracy: 0.2491 - val_loss: 1.7085 - val_accuracy: 0.3418\n",
            "Epoch 19/50\n",
            "382/382 [==============================] - 11s 29ms/step - loss: 2.0578 - accuracy: 0.2486 - val_loss: 1.7119 - val_accuracy: 0.3466\n",
            "Epoch 20/50\n",
            "382/382 [==============================] - 10s 27ms/step - loss: 2.0407 - accuracy: 0.2537 - val_loss: 1.7814 - val_accuracy: 0.3278\n",
            "Epoch 21/50\n",
            "382/382 [==============================] - 10s 27ms/step - loss: 2.0182 - accuracy: 0.2583 - val_loss: 1.7173 - val_accuracy: 0.3383\n",
            "Epoch 22/50\n",
            "382/382 [==============================] - 10s 27ms/step - loss: 1.9932 - accuracy: 0.2608 - val_loss: 1.6871 - val_accuracy: 0.3478\n",
            "Epoch 23/50\n",
            "382/382 [==============================] - 10s 27ms/step - loss: 1.9781 - accuracy: 0.2614 - val_loss: 1.6565 - val_accuracy: 0.3576\n",
            "Epoch 24/50\n",
            "382/382 [==============================] - 10s 27ms/step - loss: 1.9489 - accuracy: 0.2699 - val_loss: 1.8021 - val_accuracy: 0.3190\n",
            "Epoch 25/50\n",
            "382/382 [==============================] - 10s 27ms/step - loss: 1.9150 - accuracy: 0.2767 - val_loss: 1.7406 - val_accuracy: 0.3267\n",
            "Epoch 26/50\n",
            "382/382 [==============================] - 10s 27ms/step - loss: 1.8893 - accuracy: 0.2835 - val_loss: 1.6385 - val_accuracy: 0.3715\n",
            "Epoch 27/50\n",
            "382/382 [==============================] - 10s 26ms/step - loss: 1.8760 - accuracy: 0.2851 - val_loss: 1.6723 - val_accuracy: 0.3434\n",
            "Epoch 28/50\n",
            "382/382 [==============================] - 10s 27ms/step - loss: 1.8587 - accuracy: 0.2938 - val_loss: 1.6747 - val_accuracy: 0.3508\n",
            "Epoch 29/50\n",
            "382/382 [==============================] - 11s 28ms/step - loss: 1.8378 - accuracy: 0.2964 - val_loss: 1.6279 - val_accuracy: 0.3648\n",
            "Epoch 30/50\n",
            "382/382 [==============================] - 10s 27ms/step - loss: 1.8242 - accuracy: 0.3019 - val_loss: 1.6151 - val_accuracy: 0.3738\n",
            "Epoch 31/50\n",
            "382/382 [==============================] - 10s 27ms/step - loss: 1.8297 - accuracy: 0.2967 - val_loss: 1.6133 - val_accuracy: 0.3680\n",
            "Epoch 32/50\n",
            "382/382 [==============================] - 10s 27ms/step - loss: 1.8216 - accuracy: 0.3033 - val_loss: 1.6109 - val_accuracy: 0.3696\n",
            "Epoch 33/50\n",
            "382/382 [==============================] - 10s 27ms/step - loss: 1.8169 - accuracy: 0.3057 - val_loss: 1.6096 - val_accuracy: 0.3724\n",
            "Epoch 34/50\n",
            "382/382 [==============================] - 10s 26ms/step - loss: 1.8236 - accuracy: 0.3010 - val_loss: 1.6238 - val_accuracy: 0.3659\n",
            "Epoch 35/50\n",
            "382/382 [==============================] - 10s 27ms/step - loss: 1.8174 - accuracy: 0.3018 - val_loss: 1.6503 - val_accuracy: 0.3562\n",
            "Epoch 36/50\n",
            "382/382 [==============================] - 10s 27ms/step - loss: 1.8176 - accuracy: 0.3004 - val_loss: 1.6495 - val_accuracy: 0.3529\n",
            "Epoch 37/50\n",
            "382/382 [==============================] - 10s 27ms/step - loss: 1.8067 - accuracy: 0.3013 - val_loss: 1.7212 - val_accuracy: 0.3320\n",
            "Epoch 38/50\n",
            "382/382 [==============================] - 10s 27ms/step - loss: 1.7904 - accuracy: 0.3129 - val_loss: 1.6545 - val_accuracy: 0.3566\n"
          ],
          "name": "stdout"
        },
        {
          "output_type": "execute_result",
          "data": {
            "text/plain": [
              "<tensorflow.python.keras.callbacks.History at 0x7fd3181dc278>"
            ]
          },
          "metadata": {
            "tags": []
          },
          "execution_count": 37
        }
      ]
    },
    {
      "cell_type": "markdown",
      "metadata": {
        "id": "Kl-YB3dg_O8v",
        "colab_type": "text"
      },
      "source": [
        "Jeremy Howard discussed a very nice idea of progressively increasing the number of channels in the initial layers of a Convnet while keeping the kernel size to 3x3. This is discussed here: https://youtu.be/hPQKzsjTyyQ?t=3700. "
      ]
    },
    {
      "cell_type": "code",
      "metadata": {
        "id": "UNA_MgR8otlx",
        "colab_type": "code",
        "colab": {}
      },
      "source": [
        "# import the necessary packages\n",
        "from tensorflow.keras.models import Model\n",
        "from tensorflow.keras.models import Sequential\n",
        "from tensorflow.keras.layers import GlobalAveragePooling2D\n",
        "from tensorflow.keras.layers import BatchNormalization\n",
        "from tensorflow.keras.layers import AveragePooling2D\n",
        "from tensorflow.keras.layers import MaxPooling2D\n",
        "from tensorflow.keras.layers import Conv2D\n",
        "from tensorflow.keras.layers import Activation\n",
        "from tensorflow.keras.layers import Dropout\n",
        "from tensorflow.keras.layers import Input\n",
        "from tensorflow.keras.layers import Dense\n",
        "from tensorflow.keras.layers import concatenate\n",
        "import math"
      ],
      "execution_count": 0,
      "outputs": []
    },
    {
      "cell_type": "code",
      "metadata": {
        "id": "z45jjxiI_gVs",
        "colab_type": "code",
        "colab": {}
      },
      "source": [
        "class MiniVGGNetModel(Model):\n",
        "\tdef __init__(self, classes, channels, init_kernel_size=3, chanDim=-1):\n",
        "\t\t# call the parent constructor\n",
        "\t\tsuper(MiniVGGNetModel, self).__init__()\n",
        "\n",
        "\t\t# determine the number of channels to output in the first\n",
        "\t\t# conv layer\n",
        "\t\toutChannels = 2**math.floor(math.log2(channels*init_kernel_size*init_kernel_size))\n",
        "\n",
        "\t\t# initialize the layers in the first (CONV => RELU) * 2 => POOL\n",
        "\t\t# layer set\n",
        "\t\tself.conv1A = Conv2D(outChannels, (3, 3), strides=1, padding=\"same\")\n",
        "\t\tself.act1A = Activation(\"relu\")\n",
        "\t\tself.bn1A = BatchNormalization(axis=chanDim)\n",
        "\t\tself.conv1B = Conv2D(outChannels*2, (3, 3), strides=2, padding=\"same\")\n",
        "\t\tself.act1B = Activation(\"relu\")\n",
        "\t\tself.bn1B = BatchNormalization(axis=chanDim)\n",
        "\t\tself.pool1 = MaxPooling2D(pool_size=(2, 2))\n",
        "  \n",
        "\t\t# initialize the layers in the second (CONV => RELU) => POOL\n",
        "\t\t# layer set\n",
        "\t\tself.conv2A = Conv2D(outChannels*4, (3, 3), strides=2, padding=\"same\")\n",
        "\t\tself.act2A = Activation(\"relu\")\n",
        "\t\tself.bn2A = BatchNormalization(axis=chanDim)\n",
        "\t\tself.pool2 = MaxPooling2D(pool_size=(2, 2))\n",
        "\n",
        "\t\t# initialize the layers in our fully-connected layer set\n",
        "\t\tself.flatten = GlobalAveragePooling2D()\n",
        "\t\tself.dense3 = Dense(512)\n",
        "\t\tself.act3 = Activation(\"relu\")\n",
        "\t\tself.bn3 = BatchNormalization()\n",
        "\t\tself.do3 = Dropout(0.5)\n",
        "\n",
        "\t\t# initialize the layers in the softmax classifier layer set\n",
        "\t\tself.dense4 = Dense(classes)\n",
        "\t\tself.softmax = Activation(\"softmax\")\n",
        "\n",
        "\tdef call(self, inputs):\n",
        "\t\t# build the first (CONV => RELU) * 2 => POOL layer set\n",
        "\t\tx = self.conv1A(inputs)\n",
        "\t\tx = self.act1A(x)\n",
        "\t\tx = self.bn1A(x)\n",
        "\t\tx = self.conv1B(x)\n",
        "\t\tx = self.act1B(x)\n",
        "\t\tx = self.bn1B(x)\n",
        "\t\tx = self.pool1(x)\n",
        "\t\n",
        "\t\t# build the second (CONV => RELU) => POOL\n",
        "\t\t# layer set\n",
        "\t\tx = self.conv2A(x)\n",
        "\t\tx = self.act2A(x)\n",
        "\t\tx = self.bn2A(x)\n",
        "\t\tx = self.pool2(x)\n",
        "\n",
        "\t\t# build our FC layer set\n",
        "\t\tx = self.flatten(x)\n",
        "\t\tx = self.dense3(x)\n",
        "\t\tx = self.act3(x)\n",
        "\t\tx = self.bn3(x)\n",
        "\t\tx = self.do3(x)\n",
        "\n",
        "\t\t# build the softmax classifier\n",
        "\t\tx = self.dense4(x)\n",
        "\t\tx = self.softmax(x)\n",
        "\n",
        "\t\t# return the constructed model\n",
        "\t\treturn x"
      ],
      "execution_count": 0,
      "outputs": []
    },
    {
      "cell_type": "code",
      "metadata": {
        "id": "xba9ade2o0g2",
        "colab_type": "code",
        "colab": {
          "base_uri": "https://localhost:8080/",
          "height": 343
        },
        "outputId": "b8deb99b-3b89-4558-e78d-b97935825107"
      },
      "source": [
        "mini_vgg_v2 = MiniVGGNetModel(len(LABELS), channels=1)\n",
        "for layer in mini_vgg_v2.layers:\n",
        "    print(layer.get_config())"
      ],
      "execution_count": 43,
      "outputs": [
        {
          "output_type": "stream",
          "text": [
            "{'name': 'conv2d_10', 'trainable': True, 'dtype': 'float32', 'filters': 8, 'kernel_size': (3, 3), 'strides': (1, 1), 'padding': 'same', 'data_format': 'channels_last', 'dilation_rate': (1, 1), 'activation': 'linear', 'use_bias': True, 'kernel_initializer': {'class_name': 'GlorotUniform', 'config': {'seed': None}}, 'bias_initializer': {'class_name': 'Zeros', 'config': {}}, 'kernel_regularizer': None, 'bias_regularizer': None, 'activity_regularizer': None, 'kernel_constraint': None, 'bias_constraint': None}\n",
            "{'name': 'activation_20', 'trainable': True, 'dtype': 'float32', 'activation': 'relu'}\n",
            "{'name': 'batch_normalization_15', 'trainable': True, 'dtype': 'float32', 'axis': -1, 'momentum': 0.99, 'epsilon': 0.001, 'center': True, 'scale': True, 'beta_initializer': {'class_name': 'Zeros', 'config': {}}, 'gamma_initializer': {'class_name': 'Ones', 'config': {}}, 'moving_mean_initializer': {'class_name': 'Zeros', 'config': {}}, 'moving_variance_initializer': {'class_name': 'Ones', 'config': {}}, 'beta_regularizer': None, 'gamma_regularizer': None, 'beta_constraint': None, 'gamma_constraint': None}\n",
            "{'name': 'conv2d_11', 'trainable': True, 'dtype': 'float32', 'filters': 16, 'kernel_size': (3, 3), 'strides': (2, 2), 'padding': 'same', 'data_format': 'channels_last', 'dilation_rate': (1, 1), 'activation': 'linear', 'use_bias': True, 'kernel_initializer': {'class_name': 'GlorotUniform', 'config': {'seed': None}}, 'bias_initializer': {'class_name': 'Zeros', 'config': {}}, 'kernel_regularizer': None, 'bias_regularizer': None, 'activity_regularizer': None, 'kernel_constraint': None, 'bias_constraint': None}\n",
            "{'name': 'activation_21', 'trainable': True, 'dtype': 'float32', 'activation': 'relu'}\n",
            "{'name': 'batch_normalization_16', 'trainable': True, 'dtype': 'float32', 'axis': -1, 'momentum': 0.99, 'epsilon': 0.001, 'center': True, 'scale': True, 'beta_initializer': {'class_name': 'Zeros', 'config': {}}, 'gamma_initializer': {'class_name': 'Ones', 'config': {}}, 'moving_mean_initializer': {'class_name': 'Zeros', 'config': {}}, 'moving_variance_initializer': {'class_name': 'Ones', 'config': {}}, 'beta_regularizer': None, 'gamma_regularizer': None, 'beta_constraint': None, 'gamma_constraint': None}\n",
            "{'name': 'max_pooling2d_5', 'trainable': True, 'dtype': 'float32', 'pool_size': (2, 2), 'padding': 'valid', 'strides': (2, 2), 'data_format': 'channels_last'}\n",
            "{'name': 'conv2d_12', 'trainable': True, 'dtype': 'float32', 'filters': 32, 'kernel_size': (3, 3), 'strides': (2, 2), 'padding': 'same', 'data_format': 'channels_last', 'dilation_rate': (1, 1), 'activation': 'linear', 'use_bias': True, 'kernel_initializer': {'class_name': 'GlorotUniform', 'config': {'seed': None}}, 'bias_initializer': {'class_name': 'Zeros', 'config': {}}, 'kernel_regularizer': None, 'bias_regularizer': None, 'activity_regularizer': None, 'kernel_constraint': None, 'bias_constraint': None}\n",
            "{'name': 'activation_22', 'trainable': True, 'dtype': 'float32', 'activation': 'relu'}\n",
            "{'name': 'batch_normalization_17', 'trainable': True, 'dtype': 'float32', 'axis': -1, 'momentum': 0.99, 'epsilon': 0.001, 'center': True, 'scale': True, 'beta_initializer': {'class_name': 'Zeros', 'config': {}}, 'gamma_initializer': {'class_name': 'Ones', 'config': {}}, 'moving_mean_initializer': {'class_name': 'Zeros', 'config': {}}, 'moving_variance_initializer': {'class_name': 'Ones', 'config': {}}, 'beta_regularizer': None, 'gamma_regularizer': None, 'beta_constraint': None, 'gamma_constraint': None}\n",
            "{'name': 'max_pooling2d_6', 'trainable': True, 'dtype': 'float32', 'pool_size': (2, 2), 'padding': 'valid', 'strides': (2, 2), 'data_format': 'channels_last'}\n",
            "{'name': 'global_average_pooling2d_5', 'trainable': True, 'dtype': 'float32', 'data_format': 'channels_last'}\n",
            "{'name': 'dense_10', 'trainable': True, 'dtype': 'float32', 'units': 512, 'activation': 'linear', 'use_bias': True, 'kernel_initializer': {'class_name': 'GlorotUniform', 'config': {'seed': None}}, 'bias_initializer': {'class_name': 'Zeros', 'config': {}}, 'kernel_regularizer': None, 'bias_regularizer': None, 'activity_regularizer': None, 'kernel_constraint': None, 'bias_constraint': None}\n",
            "{'name': 'activation_23', 'trainable': True, 'dtype': 'float32', 'activation': 'relu'}\n",
            "{'name': 'batch_normalization_18', 'trainable': True, 'dtype': 'float32', 'axis': -1, 'momentum': 0.99, 'epsilon': 0.001, 'center': True, 'scale': True, 'beta_initializer': {'class_name': 'Zeros', 'config': {}}, 'gamma_initializer': {'class_name': 'Ones', 'config': {}}, 'moving_mean_initializer': {'class_name': 'Zeros', 'config': {}}, 'moving_variance_initializer': {'class_name': 'Ones', 'config': {}}, 'beta_regularizer': None, 'gamma_regularizer': None, 'beta_constraint': None, 'gamma_constraint': None}\n",
            "{'name': 'dropout_5', 'trainable': True, 'dtype': 'float32', 'rate': 0.5, 'noise_shape': None, 'seed': None}\n",
            "{'name': 'dense_11', 'trainable': True, 'dtype': 'float32', 'units': 7, 'activation': 'linear', 'use_bias': True, 'kernel_initializer': {'class_name': 'GlorotUniform', 'config': {'seed': None}}, 'bias_initializer': {'class_name': 'Zeros', 'config': {}}, 'kernel_regularizer': None, 'bias_regularizer': None, 'activity_regularizer': None, 'kernel_constraint': None, 'bias_constraint': None}\n",
            "{'name': 'activation_24', 'trainable': True, 'dtype': 'float32', 'activation': 'softmax'}\n"
          ],
          "name": "stdout"
        }
      ]
    },
    {
      "cell_type": "code",
      "metadata": {
        "id": "XopDpDTGJ9C4",
        "colab_type": "code",
        "colab": {
          "base_uri": "https://localhost:8080/",
          "height": 819
        },
        "outputId": "d5d109e5-0a86-4f35-d063-00b3427a1e4f"
      },
      "source": [
        "wandb.init(project=\"emotion-detection\", entity=\"sayakpaul\", id=\"mini-vgg-prog-channels\")\n",
        "mini_vgg_v2 = MiniVGGNetModel(len(LABELS), channels=1)\n",
        "mini_vgg_v2.compile(loss=\"categorical_crossentropy\", optimizer=\"sgd\",\n",
        "\tmetrics=[\"accuracy\"])\n",
        "mini_vgg_v2.fit(train_aug.flow(trainX, trainY, batch_size=64),\n",
        "    steps_per_epoch=np.ceil(len(trainX)/64),\n",
        "    validation_data=val_aug.flow(valX, valY, batch_size=64), \n",
        "    validation_steps=np.ceil(len(valX)/64),\n",
        "    epochs=50,\n",
        "    class_weight=classWeight,\n",
        "    callbacks=[WandbCallback(data_type=\"image\", validation_data=(valX, valY), labels=LABELS),\n",
        "               EarlyStopping(patience=5, restore_best_weights=True)])"
      ],
      "execution_count": 44,
      "outputs": [
        {
          "output_type": "display_data",
          "data": {
            "text/html": [
              "\n",
              "                Logging results to <a href=\"https://wandb.com\" target=\"_blank\">Weights & Biases</a> <a href=\"https://docs.wandb.com/integrations/jupyter.html\" target=\"_blank\">(Documentation)</a>.<br/>\n",
              "                Project page: <a href=\"https://app.wandb.ai/sayakpaul/emotion-detection\" target=\"_blank\">https://app.wandb.ai/sayakpaul/emotion-detection</a><br/>\n",
              "                Run page: <a href=\"https://app.wandb.ai/sayakpaul/emotion-detection/runs/mini-vgg-prog-channels\" target=\"_blank\">https://app.wandb.ai/sayakpaul/emotion-detection/runs/mini-vgg-prog-channels</a><br/>\n",
              "            "
            ],
            "text/plain": [
              "<IPython.core.display.HTML object>"
            ]
          },
          "metadata": {
            "tags": []
          }
        },
        {
          "output_type": "stream",
          "text": [
            "WARNING:tensorflow:sample_weight modes were coerced from\n",
            "  ...\n",
            "    to  \n",
            "  ['...']\n",
            "Train for 382.0 steps, validate for 68.0 steps\n",
            "Epoch 1/50\n",
            "379/382 [============================>.] - ETA: 0s - loss: 2.2010 - accuracy: 0.1981"
          ],
          "name": "stdout"
        },
        {
          "output_type": "stream",
          "text": [
            "wandb: ERROR Can't save model, h5py returned error: Saving the model to HDF5 format requires the model to be a Functional model or a Sequential model. It does not work for subclassed models, because such models are defined via the body of a Python method, which isn't safely serializable. Consider saving to the Tensorflow SavedModel format (by setting save_format=\"tf\") or using `save_weights`.\n"
          ],
          "name": "stderr"
        },
        {
          "output_type": "stream",
          "text": [
            "382/382 [==============================] - 10s 27ms/step - loss: 2.1995 - accuracy: 0.1985 - val_loss: 1.8372 - val_accuracy: 0.2498\n",
            "Epoch 2/50\n",
            "382/382 [==============================] - 9s 24ms/step - loss: 1.9048 - accuracy: 0.2380 - val_loss: 1.7660 - val_accuracy: 0.2826\n",
            "Epoch 3/50\n",
            "382/382 [==============================] - 9s 24ms/step - loss: 1.8120 - accuracy: 0.2637 - val_loss: 1.7393 - val_accuracy: 0.2905\n",
            "Epoch 4/50\n",
            "382/382 [==============================] - 9s 24ms/step - loss: 1.7710 - accuracy: 0.2754 - val_loss: 1.7932 - val_accuracy: 0.2730\n",
            "Epoch 5/50\n",
            "382/382 [==============================] - 9s 24ms/step - loss: 1.7532 - accuracy: 0.2842 - val_loss: 1.7297 - val_accuracy: 0.2895\n",
            "Epoch 6/50\n",
            "382/382 [==============================] - 9s 25ms/step - loss: 1.7405 - accuracy: 0.2907 - val_loss: 1.7265 - val_accuracy: 0.2884\n",
            "Epoch 7/50\n",
            "382/382 [==============================] - 9s 24ms/step - loss: 1.7329 - accuracy: 0.2937 - val_loss: 1.7738 - val_accuracy: 0.2858\n",
            "Epoch 8/50\n",
            "382/382 [==============================] - 9s 25ms/step - loss: 1.7206 - accuracy: 0.3033 - val_loss: 1.7083 - val_accuracy: 0.3116\n",
            "Epoch 9/50\n",
            "382/382 [==============================] - 9s 24ms/step - loss: 1.7160 - accuracy: 0.3033 - val_loss: 1.6989 - val_accuracy: 0.3123\n",
            "Epoch 10/50\n",
            "382/382 [==============================] - 9s 25ms/step - loss: 1.7049 - accuracy: 0.3114 - val_loss: 1.6915 - val_accuracy: 0.3209\n",
            "Epoch 11/50\n",
            "382/382 [==============================] - 9s 24ms/step - loss: 1.7043 - accuracy: 0.3103 - val_loss: 1.7196 - val_accuracy: 0.3051\n",
            "Epoch 12/50\n",
            "382/382 [==============================] - 9s 24ms/step - loss: 1.6991 - accuracy: 0.3186 - val_loss: 1.6933 - val_accuracy: 0.3181\n",
            "Epoch 13/50\n",
            "382/382 [==============================] - 9s 25ms/step - loss: 1.6933 - accuracy: 0.3196 - val_loss: 1.6592 - val_accuracy: 0.3415\n",
            "Epoch 14/50\n",
            "382/382 [==============================] - 10s 25ms/step - loss: 1.6884 - accuracy: 0.3191 - val_loss: 1.7552 - val_accuracy: 0.3132\n",
            "Epoch 15/50\n",
            "382/382 [==============================] - 9s 24ms/step - loss: 1.6846 - accuracy: 0.3289 - val_loss: 1.6868 - val_accuracy: 0.3244\n",
            "Epoch 16/50\n",
            "382/382 [==============================] - 9s 24ms/step - loss: 1.6820 - accuracy: 0.3269 - val_loss: 1.6820 - val_accuracy: 0.3211\n",
            "Epoch 17/50\n",
            "382/382 [==============================] - 9s 24ms/step - loss: 1.6775 - accuracy: 0.3273 - val_loss: 1.7968 - val_accuracy: 0.3102\n",
            "Epoch 18/50\n",
            "382/382 [==============================] - 9s 24ms/step - loss: 1.6694 - accuracy: 0.3283 - val_loss: 1.6830 - val_accuracy: 0.3362\n"
          ],
          "name": "stdout"
        },
        {
          "output_type": "execute_result",
          "data": {
            "text/plain": [
              "<tensorflow.python.keras.callbacks.History at 0x7fe067c0b0b8>"
            ]
          },
          "metadata": {
            "tags": []
          },
          "execution_count": 44
        }
      ]
    },
    {
      "cell_type": "code",
      "metadata": {
        "id": "Ky46EJaZqCf_",
        "colab_type": "code",
        "colab": {
          "base_uri": "https://localhost:8080/",
          "height": 1000
        },
        "outputId": "20c6e3cb-a326-41ea-baf1-368bdf788a2f"
      },
      "source": [
        "wandb.init(project=\"emotion-detection\", entity=\"sayakpaul\", id=\"mini-vgg-prog-channels-2\")\n",
        "mini_vgg_v2 = MiniVGGNetModel(len(LABELS), channels=1)\n",
        "mini_vgg_v2.compile(loss=\"categorical_crossentropy\", optimizer=\"sgd\",\n",
        "\tmetrics=[\"accuracy\"])\n",
        "mini_vgg_v2.fit(train_aug.flow(trainX, trainY, batch_size=64),\n",
        "    steps_per_epoch=np.ceil(len(trainX)/64),\n",
        "    validation_data=val_aug.flow(valX, valY, batch_size=64), \n",
        "    validation_steps=np.ceil(len(valX)/64),\n",
        "    epochs=50,\n",
        "    class_weight=classWeight,\n",
        "    callbacks=[WandbCallback(data_type=\"image\", validation_data=(valX, valY), labels=LABELS)])"
      ],
      "execution_count": 45,
      "outputs": [
        {
          "output_type": "display_data",
          "data": {
            "text/html": [
              "\n",
              "                Logging results to <a href=\"https://wandb.com\" target=\"_blank\">Weights & Biases</a> <a href=\"https://docs.wandb.com/integrations/jupyter.html\" target=\"_blank\">(Documentation)</a>.<br/>\n",
              "                Project page: <a href=\"https://app.wandb.ai/sayakpaul/emotion-detection\" target=\"_blank\">https://app.wandb.ai/sayakpaul/emotion-detection</a><br/>\n",
              "                Run page: <a href=\"https://app.wandb.ai/sayakpaul/emotion-detection/runs/mini-vgg-prog-channels-2\" target=\"_blank\">https://app.wandb.ai/sayakpaul/emotion-detection/runs/mini-vgg-prog-channels-2</a><br/>\n",
              "            "
            ],
            "text/plain": [
              "<IPython.core.display.HTML object>"
            ]
          },
          "metadata": {
            "tags": []
          }
        },
        {
          "output_type": "stream",
          "text": [
            "WARNING:tensorflow:sample_weight modes were coerced from\n",
            "  ...\n",
            "    to  \n",
            "  ['...']\n",
            "Train for 382.0 steps, validate for 68.0 steps\n",
            "Epoch 1/50\n",
            "381/382 [============================>.] - ETA: 0s - loss: 2.2321 - accuracy: 0.1911"
          ],
          "name": "stdout"
        },
        {
          "output_type": "stream",
          "text": [
            "wandb: ERROR Can't save model, h5py returned error: Saving the model to HDF5 format requires the model to be a Functional model or a Sequential model. It does not work for subclassed models, because such models are defined via the body of a Python method, which isn't safely serializable. Consider saving to the Tensorflow SavedModel format (by setting save_format=\"tf\") or using `save_weights`.\n"
          ],
          "name": "stderr"
        },
        {
          "output_type": "stream",
          "text": [
            "382/382 [==============================] - 10s 27ms/step - loss: 2.2315 - accuracy: 0.1912 - val_loss: 1.8486 - val_accuracy: 0.2524\n",
            "Epoch 2/50\n",
            "382/382 [==============================] - 10s 25ms/step - loss: 1.9289 - accuracy: 0.2270 - val_loss: 1.7736 - val_accuracy: 0.2712\n",
            "Epoch 3/50\n",
            "382/382 [==============================] - 9s 25ms/step - loss: 1.8328 - accuracy: 0.2515 - val_loss: 1.7635 - val_accuracy: 0.2751\n",
            "Epoch 4/50\n",
            "382/382 [==============================] - 9s 24ms/step - loss: 1.7921 - accuracy: 0.2659 - val_loss: 1.7527 - val_accuracy: 0.2740\n",
            "Epoch 5/50\n",
            "382/382 [==============================] - 9s 25ms/step - loss: 1.7716 - accuracy: 0.2717 - val_loss: 1.7458 - val_accuracy: 0.2935\n",
            "Epoch 6/50\n",
            "382/382 [==============================] - 9s 24ms/step - loss: 1.7670 - accuracy: 0.2776 - val_loss: 1.7440 - val_accuracy: 0.2958\n",
            "Epoch 7/50\n",
            "382/382 [==============================] - 9s 25ms/step - loss: 1.7487 - accuracy: 0.2876 - val_loss: 1.7169 - val_accuracy: 0.3037\n",
            "Epoch 8/50\n",
            "382/382 [==============================] - 10s 25ms/step - loss: 1.7384 - accuracy: 0.2958 - val_loss: 1.7239 - val_accuracy: 0.2944\n",
            "Epoch 9/50\n",
            "382/382 [==============================] - 9s 24ms/step - loss: 1.7335 - accuracy: 0.2952 - val_loss: 1.7205 - val_accuracy: 0.3044\n",
            "Epoch 10/50\n",
            "382/382 [==============================] - 9s 24ms/step - loss: 1.7250 - accuracy: 0.3010 - val_loss: 1.7144 - val_accuracy: 0.3127\n",
            "Epoch 11/50\n",
            "382/382 [==============================] - 9s 24ms/step - loss: 1.7143 - accuracy: 0.3087 - val_loss: 1.6920 - val_accuracy: 0.3232\n",
            "Epoch 12/50\n",
            "382/382 [==============================] - 9s 24ms/step - loss: 1.7088 - accuracy: 0.3103 - val_loss: 1.7220 - val_accuracy: 0.3011\n",
            "Epoch 13/50\n",
            "382/382 [==============================] - 9s 24ms/step - loss: 1.6974 - accuracy: 0.3182 - val_loss: 1.6778 - val_accuracy: 0.3316\n",
            "Epoch 14/50\n",
            "382/382 [==============================] - 9s 24ms/step - loss: 1.6958 - accuracy: 0.3176 - val_loss: 1.7107 - val_accuracy: 0.3271\n",
            "Epoch 15/50\n",
            "382/382 [==============================] - 9s 25ms/step - loss: 1.6918 - accuracy: 0.3208 - val_loss: 1.6968 - val_accuracy: 0.3213\n",
            "Epoch 16/50\n",
            "382/382 [==============================] - 9s 24ms/step - loss: 1.6812 - accuracy: 0.3247 - val_loss: 1.6708 - val_accuracy: 0.3327\n",
            "Epoch 17/50\n",
            "382/382 [==============================] - 9s 25ms/step - loss: 1.6790 - accuracy: 0.3319 - val_loss: 1.6500 - val_accuracy: 0.3453\n",
            "Epoch 18/50\n",
            "382/382 [==============================] - 9s 25ms/step - loss: 1.6686 - accuracy: 0.3375 - val_loss: 1.7142 - val_accuracy: 0.3218\n",
            "Epoch 19/50\n",
            "382/382 [==============================] - 9s 24ms/step - loss: 1.6647 - accuracy: 0.3339 - val_loss: 1.6451 - val_accuracy: 0.3353\n",
            "Epoch 20/50\n",
            "382/382 [==============================] - 9s 25ms/step - loss: 1.6649 - accuracy: 0.3375 - val_loss: 1.6728 - val_accuracy: 0.3357\n",
            "Epoch 21/50\n",
            "382/382 [==============================] - 9s 24ms/step - loss: 1.6520 - accuracy: 0.3449 - val_loss: 1.6997 - val_accuracy: 0.3262\n",
            "Epoch 22/50\n",
            "382/382 [==============================] - 9s 25ms/step - loss: 1.6579 - accuracy: 0.3412 - val_loss: 1.6418 - val_accuracy: 0.3462\n",
            "Epoch 23/50\n",
            "382/382 [==============================] - 9s 25ms/step - loss: 1.6420 - accuracy: 0.3454 - val_loss: 1.7906 - val_accuracy: 0.3278\n",
            "Epoch 24/50\n",
            "382/382 [==============================] - 9s 25ms/step - loss: 1.6445 - accuracy: 0.3535 - val_loss: 1.6365 - val_accuracy: 0.3511\n",
            "Epoch 25/50\n",
            "382/382 [==============================] - 9s 25ms/step - loss: 1.6393 - accuracy: 0.3503 - val_loss: 1.7188 - val_accuracy: 0.3025\n",
            "Epoch 26/50\n",
            "382/382 [==============================] - 10s 25ms/step - loss: 1.6319 - accuracy: 0.3509 - val_loss: 1.8047 - val_accuracy: 0.2515\n",
            "Epoch 27/50\n",
            "382/382 [==============================] - 9s 25ms/step - loss: 1.6251 - accuracy: 0.3606 - val_loss: 1.6391 - val_accuracy: 0.3524\n",
            "Epoch 28/50\n",
            "382/382 [==============================] - 9s 24ms/step - loss: 1.6170 - accuracy: 0.3606 - val_loss: 1.6250 - val_accuracy: 0.3726\n",
            "Epoch 29/50\n",
            "382/382 [==============================] - 9s 24ms/step - loss: 1.6166 - accuracy: 0.3622 - val_loss: 1.5977 - val_accuracy: 0.3775\n",
            "Epoch 30/50\n",
            "382/382 [==============================] - 9s 24ms/step - loss: 1.6186 - accuracy: 0.3578 - val_loss: 1.7141 - val_accuracy: 0.2939\n",
            "Epoch 31/50\n",
            "382/382 [==============================] - 9s 24ms/step - loss: 1.6081 - accuracy: 0.3647 - val_loss: 1.6412 - val_accuracy: 0.3638\n",
            "Epoch 32/50\n",
            "382/382 [==============================] - 9s 24ms/step - loss: 1.6090 - accuracy: 0.3621 - val_loss: 1.6548 - val_accuracy: 0.3383\n",
            "Epoch 33/50\n",
            "382/382 [==============================] - 9s 25ms/step - loss: 1.6053 - accuracy: 0.3701 - val_loss: 1.6262 - val_accuracy: 0.3738\n",
            "Epoch 34/50\n",
            "382/382 [==============================] - 9s 24ms/step - loss: 1.6003 - accuracy: 0.3707 - val_loss: 1.6017 - val_accuracy: 0.3815\n",
            "Epoch 35/50\n",
            "382/382 [==============================] - 9s 25ms/step - loss: 1.5915 - accuracy: 0.3726 - val_loss: 1.5761 - val_accuracy: 0.3764\n",
            "Epoch 36/50\n",
            "382/382 [==============================] - 9s 24ms/step - loss: 1.5922 - accuracy: 0.3720 - val_loss: 1.6323 - val_accuracy: 0.3722\n",
            "Epoch 37/50\n",
            "382/382 [==============================] - 10s 25ms/step - loss: 1.5850 - accuracy: 0.3821 - val_loss: 1.6080 - val_accuracy: 0.3829\n",
            "Epoch 38/50\n",
            "382/382 [==============================] - 9s 24ms/step - loss: 1.5862 - accuracy: 0.3744 - val_loss: 1.6053 - val_accuracy: 0.3715\n",
            "Epoch 39/50\n",
            "382/382 [==============================] - 9s 25ms/step - loss: 1.5815 - accuracy: 0.3772 - val_loss: 1.6075 - val_accuracy: 0.3840\n",
            "Epoch 40/50\n",
            "382/382 [==============================] - 9s 24ms/step - loss: 1.5802 - accuracy: 0.3811 - val_loss: 1.5570 - val_accuracy: 0.3926\n",
            "Epoch 41/50\n",
            "382/382 [==============================] - 9s 24ms/step - loss: 1.5811 - accuracy: 0.3794 - val_loss: 1.6024 - val_accuracy: 0.3782\n",
            "Epoch 42/50\n",
            "382/382 [==============================] - 9s 25ms/step - loss: 1.5722 - accuracy: 0.3854 - val_loss: 1.6029 - val_accuracy: 0.3778\n",
            "Epoch 43/50\n",
            "382/382 [==============================] - 9s 25ms/step - loss: 1.5714 - accuracy: 0.3842 - val_loss: 1.5531 - val_accuracy: 0.4093\n",
            "Epoch 44/50\n",
            "382/382 [==============================] - 9s 24ms/step - loss: 1.5673 - accuracy: 0.3855 - val_loss: 1.5608 - val_accuracy: 0.4031\n",
            "Epoch 45/50\n",
            "382/382 [==============================] - 9s 25ms/step - loss: 1.5662 - accuracy: 0.3851 - val_loss: 1.5512 - val_accuracy: 0.4079\n",
            "Epoch 46/50\n",
            "382/382 [==============================] - 9s 24ms/step - loss: 1.5605 - accuracy: 0.3928 - val_loss: 1.5602 - val_accuracy: 0.4003\n",
            "Epoch 47/50\n",
            "382/382 [==============================] - 9s 24ms/step - loss: 1.5599 - accuracy: 0.3907 - val_loss: 1.5226 - val_accuracy: 0.4124\n",
            "Epoch 48/50\n",
            "382/382 [==============================] - 9s 24ms/step - loss: 1.5608 - accuracy: 0.3952 - val_loss: 1.6825 - val_accuracy: 0.3378\n",
            "Epoch 49/50\n",
            "382/382 [==============================] - 10s 25ms/step - loss: 1.5655 - accuracy: 0.3867 - val_loss: 1.5382 - val_accuracy: 0.4000\n",
            "Epoch 50/50\n",
            "382/382 [==============================] - 9s 24ms/step - loss: 1.5512 - accuracy: 0.3934 - val_loss: 1.5558 - val_accuracy: 0.4007\n"
          ],
          "name": "stdout"
        },
        {
          "output_type": "execute_result",
          "data": {
            "text/plain": [
              "<tensorflow.python.keras.callbacks.History at 0x7fe06776ea90>"
            ]
          },
          "metadata": {
            "tags": []
          },
          "execution_count": 45
        }
      ]
    },
    {
      "cell_type": "code",
      "metadata": {
        "id": "RRTPs9Q6vs7a",
        "colab_type": "code",
        "colab": {
          "base_uri": "https://localhost:8080/",
          "height": 1000
        },
        "outputId": "a2af1729-cd57-4dd0-a0b6-ae162a4ea35c"
      },
      "source": [
        "wandb.init(project=\"emotion-detection\", entity=\"sayakpaul\", id=\"mini-vgg-prog-channels-wo_da\")\n",
        "mini_vgg_v2 = MiniVGGNetModel(len(LABELS), channels=1)\n",
        "mini_vgg_v2.compile(loss=\"categorical_crossentropy\", optimizer=\"sgd\",\n",
        "\tmetrics=[\"accuracy\"])\n",
        "mini_vgg_v2.fit(trainX, trainY, \n",
        "    batch_size=64,\n",
        "    validation_data=(valX, valY),\n",
        "    epochs=50,\n",
        "    class_weight=classWeight,\n",
        "    callbacks=[WandbCallback(data_type=\"image\", validation_data=(valX, valY), labels=LABELS)])"
      ],
      "execution_count": 46,
      "outputs": [
        {
          "output_type": "display_data",
          "data": {
            "text/html": [
              "\n",
              "                Logging results to <a href=\"https://wandb.com\" target=\"_blank\">Weights & Biases</a> <a href=\"https://docs.wandb.com/integrations/jupyter.html\" target=\"_blank\">(Documentation)</a>.<br/>\n",
              "                Project page: <a href=\"https://app.wandb.ai/sayakpaul/emotion-detection\" target=\"_blank\">https://app.wandb.ai/sayakpaul/emotion-detection</a><br/>\n",
              "                Run page: <a href=\"https://app.wandb.ai/sayakpaul/emotion-detection/runs/mini-vgg-prog-channels-wo_da\" target=\"_blank\">https://app.wandb.ai/sayakpaul/emotion-detection/runs/mini-vgg-prog-channels-wo_da</a><br/>\n",
              "            "
            ],
            "text/plain": [
              "<IPython.core.display.HTML object>"
            ]
          },
          "metadata": {
            "tags": []
          }
        },
        {
          "output_type": "stream",
          "text": [
            "Train on 24402 samples, validate on 4307 samples\n",
            "Epoch 1/50\n",
            "24192/24402 [============================>.] - ETA: 0s - loss: 2.1178 - accuracy: 0.2321"
          ],
          "name": "stdout"
        },
        {
          "output_type": "stream",
          "text": [
            "wandb: ERROR Can't save model, h5py returned error: Saving the model to HDF5 format requires the model to be a Functional model or a Sequential model. It does not work for subclassed models, because such models are defined via the body of a Python method, which isn't safely serializable. Consider saving to the Tensorflow SavedModel format (by setting save_format=\"tf\") or using `save_weights`.\n"
          ],
          "name": "stderr"
        },
        {
          "output_type": "stream",
          "text": [
            "24402/24402 [==============================] - 4s 155us/sample - loss: 2.1167 - accuracy: 0.2320 - val_loss: 1.8309 - val_accuracy: 0.2287\n",
            "Epoch 2/50\n",
            "24402/24402 [==============================] - 3s 110us/sample - loss: 1.7937 - accuracy: 0.3144 - val_loss: 1.7025 - val_accuracy: 0.3192\n",
            "Epoch 3/50\n",
            "24402/24402 [==============================] - 3s 113us/sample - loss: 1.6844 - accuracy: 0.3448 - val_loss: 1.6760 - val_accuracy: 0.3360\n",
            "Epoch 4/50\n",
            "24402/24402 [==============================] - 3s 113us/sample - loss: 1.6309 - accuracy: 0.3647 - val_loss: 1.6763 - val_accuracy: 0.3455\n",
            "Epoch 5/50\n",
            "24402/24402 [==============================] - 3s 116us/sample - loss: 1.5987 - accuracy: 0.3753 - val_loss: 1.6276 - val_accuracy: 0.3664\n",
            "Epoch 6/50\n",
            "24402/24402 [==============================] - 3s 115us/sample - loss: 1.5752 - accuracy: 0.3836 - val_loss: 1.5963 - val_accuracy: 0.3771\n",
            "Epoch 7/50\n",
            "24402/24402 [==============================] - 3s 119us/sample - loss: 1.5590 - accuracy: 0.3948 - val_loss: 1.6476 - val_accuracy: 0.3610\n",
            "Epoch 8/50\n",
            "24402/24402 [==============================] - 3s 115us/sample - loss: 1.5396 - accuracy: 0.4051 - val_loss: 1.6544 - val_accuracy: 0.3622\n",
            "Epoch 9/50\n",
            "24402/24402 [==============================] - 3s 112us/sample - loss: 1.5276 - accuracy: 0.4059 - val_loss: 1.7205 - val_accuracy: 0.3485\n",
            "Epoch 10/50\n",
            "24402/24402 [==============================] - 3s 117us/sample - loss: 1.5103 - accuracy: 0.4118 - val_loss: 1.6386 - val_accuracy: 0.3629\n",
            "Epoch 11/50\n",
            "24402/24402 [==============================] - 3s 115us/sample - loss: 1.4959 - accuracy: 0.4218 - val_loss: 1.8604 - val_accuracy: 0.3146\n",
            "Epoch 12/50\n",
            "24402/24402 [==============================] - 3s 115us/sample - loss: 1.4892 - accuracy: 0.4215 - val_loss: 1.5852 - val_accuracy: 0.3787\n",
            "Epoch 13/50\n",
            "24402/24402 [==============================] - 3s 110us/sample - loss: 1.4792 - accuracy: 0.4320 - val_loss: 1.5299 - val_accuracy: 0.4007\n",
            "Epoch 14/50\n",
            "24402/24402 [==============================] - 3s 111us/sample - loss: 1.4712 - accuracy: 0.4319 - val_loss: 1.5415 - val_accuracy: 0.3947\n",
            "Epoch 15/50\n",
            "24402/24402 [==============================] - 3s 111us/sample - loss: 1.4577 - accuracy: 0.4381 - val_loss: 1.5358 - val_accuracy: 0.3912\n",
            "Epoch 16/50\n",
            "24402/24402 [==============================] - 3s 115us/sample - loss: 1.4485 - accuracy: 0.4382 - val_loss: 1.5470 - val_accuracy: 0.4012\n",
            "Epoch 17/50\n",
            "24402/24402 [==============================] - 3s 112us/sample - loss: 1.4417 - accuracy: 0.4450 - val_loss: 1.5525 - val_accuracy: 0.3891\n",
            "Epoch 18/50\n",
            "24402/24402 [==============================] - 3s 110us/sample - loss: 1.4325 - accuracy: 0.4462 - val_loss: 1.5894 - val_accuracy: 0.3887\n",
            "Epoch 19/50\n",
            "24402/24402 [==============================] - 3s 114us/sample - loss: 1.4267 - accuracy: 0.4488 - val_loss: 1.6159 - val_accuracy: 0.3933\n",
            "Epoch 20/50\n",
            "24402/24402 [==============================] - 3s 110us/sample - loss: 1.4188 - accuracy: 0.4539 - val_loss: 1.6404 - val_accuracy: 0.3817\n",
            "Epoch 21/50\n",
            "24402/24402 [==============================] - 3s 114us/sample - loss: 1.4117 - accuracy: 0.4563 - val_loss: 1.5034 - val_accuracy: 0.4191\n",
            "Epoch 22/50\n",
            "24402/24402 [==============================] - 3s 114us/sample - loss: 1.4041 - accuracy: 0.4570 - val_loss: 1.5094 - val_accuracy: 0.4140\n",
            "Epoch 23/50\n",
            "24402/24402 [==============================] - 3s 115us/sample - loss: 1.3965 - accuracy: 0.4616 - val_loss: 1.4893 - val_accuracy: 0.4200\n",
            "Epoch 24/50\n",
            "24402/24402 [==============================] - 3s 114us/sample - loss: 1.3889 - accuracy: 0.4657 - val_loss: 1.5484 - val_accuracy: 0.4068\n",
            "Epoch 25/50\n",
            "24402/24402 [==============================] - 3s 114us/sample - loss: 1.3861 - accuracy: 0.4675 - val_loss: 1.4750 - val_accuracy: 0.4291\n",
            "Epoch 26/50\n",
            "24402/24402 [==============================] - 3s 117us/sample - loss: 1.3821 - accuracy: 0.4653 - val_loss: 1.5576 - val_accuracy: 0.4005\n",
            "Epoch 27/50\n",
            "24402/24402 [==============================] - 3s 114us/sample - loss: 1.3769 - accuracy: 0.4714 - val_loss: 1.6002 - val_accuracy: 0.4070\n",
            "Epoch 28/50\n",
            "24402/24402 [==============================] - 3s 115us/sample - loss: 1.3696 - accuracy: 0.4737 - val_loss: 1.5103 - val_accuracy: 0.4219\n",
            "Epoch 29/50\n",
            "24402/24402 [==============================] - 3s 111us/sample - loss: 1.3649 - accuracy: 0.4734 - val_loss: 1.4844 - val_accuracy: 0.4328\n",
            "Epoch 30/50\n",
            "24402/24402 [==============================] - 3s 113us/sample - loss: 1.3580 - accuracy: 0.4763 - val_loss: 1.6406 - val_accuracy: 0.3831\n",
            "Epoch 31/50\n",
            "24402/24402 [==============================] - 3s 113us/sample - loss: 1.3601 - accuracy: 0.4773 - val_loss: 1.5502 - val_accuracy: 0.4172\n",
            "Epoch 32/50\n",
            "24402/24402 [==============================] - 3s 117us/sample - loss: 1.3509 - accuracy: 0.4848 - val_loss: 1.5985 - val_accuracy: 0.3866\n",
            "Epoch 33/50\n",
            "24402/24402 [==============================] - 3s 114us/sample - loss: 1.3504 - accuracy: 0.4783 - val_loss: 1.5054 - val_accuracy: 0.4226\n",
            "Epoch 34/50\n",
            "24402/24402 [==============================] - 3s 112us/sample - loss: 1.3438 - accuracy: 0.4861 - val_loss: 1.4856 - val_accuracy: 0.4256\n",
            "Epoch 35/50\n",
            "24402/24402 [==============================] - 3s 112us/sample - loss: 1.3357 - accuracy: 0.4818 - val_loss: 1.5722 - val_accuracy: 0.3870\n",
            "Epoch 36/50\n",
            "24402/24402 [==============================] - 3s 111us/sample - loss: 1.3350 - accuracy: 0.4871 - val_loss: 1.4621 - val_accuracy: 0.4395\n",
            "Epoch 37/50\n",
            "24402/24402 [==============================] - 3s 113us/sample - loss: 1.3339 - accuracy: 0.4867 - val_loss: 1.4957 - val_accuracy: 0.4346\n",
            "Epoch 38/50\n",
            "24402/24402 [==============================] - 3s 116us/sample - loss: 1.3248 - accuracy: 0.4898 - val_loss: 1.4943 - val_accuracy: 0.4309\n",
            "Epoch 39/50\n",
            "24402/24402 [==============================] - 3s 111us/sample - loss: 1.3264 - accuracy: 0.4902 - val_loss: 1.5000 - val_accuracy: 0.4284\n",
            "Epoch 40/50\n",
            "24402/24402 [==============================] - 3s 113us/sample - loss: 1.3193 - accuracy: 0.4907 - val_loss: 1.5160 - val_accuracy: 0.4195\n",
            "Epoch 41/50\n",
            "24402/24402 [==============================] - 3s 113us/sample - loss: 1.3183 - accuracy: 0.4898 - val_loss: 1.5014 - val_accuracy: 0.4367\n",
            "Epoch 42/50\n",
            "24402/24402 [==============================] - 3s 111us/sample - loss: 1.3147 - accuracy: 0.4938 - val_loss: 1.4737 - val_accuracy: 0.4437\n",
            "Epoch 43/50\n",
            "24402/24402 [==============================] - 3s 112us/sample - loss: 1.3125 - accuracy: 0.4952 - val_loss: 1.5548 - val_accuracy: 0.4195\n",
            "Epoch 44/50\n",
            "24402/24402 [==============================] - 3s 112us/sample - loss: 1.3051 - accuracy: 0.4969 - val_loss: 1.5288 - val_accuracy: 0.4107\n",
            "Epoch 45/50\n",
            "24402/24402 [==============================] - 3s 114us/sample - loss: 1.3049 - accuracy: 0.4993 - val_loss: 1.4590 - val_accuracy: 0.4490\n",
            "Epoch 46/50\n",
            "24402/24402 [==============================] - 3s 114us/sample - loss: 1.3004 - accuracy: 0.5011 - val_loss: 1.4643 - val_accuracy: 0.4481\n",
            "Epoch 47/50\n",
            "24402/24402 [==============================] - 3s 109us/sample - loss: 1.2971 - accuracy: 0.5025 - val_loss: 1.4724 - val_accuracy: 0.4414\n",
            "Epoch 48/50\n",
            "24402/24402 [==============================] - 3s 115us/sample - loss: 1.2925 - accuracy: 0.5025 - val_loss: 1.4662 - val_accuracy: 0.4488\n",
            "Epoch 49/50\n",
            "24402/24402 [==============================] - 3s 110us/sample - loss: 1.2897 - accuracy: 0.5043 - val_loss: 1.5017 - val_accuracy: 0.4326\n",
            "Epoch 50/50\n",
            "24402/24402 [==============================] - 3s 111us/sample - loss: 1.2915 - accuracy: 0.5016 - val_loss: 1.4878 - val_accuracy: 0.4407\n"
          ],
          "name": "stdout"
        },
        {
          "output_type": "execute_result",
          "data": {
            "text/plain": [
              "<tensorflow.python.keras.callbacks.History at 0x7fdfd028b208>"
            ]
          },
          "metadata": {
            "tags": []
          },
          "execution_count": 46
        }
      ]
    },
    {
      "cell_type": "markdown",
      "metadata": {
        "id": "kHSLjYcB5sOp",
        "colab_type": "text"
      },
      "source": [
        "Let's try Layer-Wise Sequential Unit Variance (LSUV) to initialize our network. LSUV was introduced in a paper called [All you need is a good init](https://arxiv.org/pdf/1511.06422.pdf) by Mishkin et. al. I have referred the Keras implementation from here: https://github.com/suvojit-0x55aa/LSUV-Keras. "
      ]
    },
    {
      "cell_type": "code",
      "metadata": {
        "id": "3Mlrk9RGxp2-",
        "colab_type": "code",
        "colab": {}
      },
      "source": [
        "from tensorflow.keras.models import Sequential"
      ],
      "execution_count": 0,
      "outputs": []
    },
    {
      "cell_type": "code",
      "metadata": {
        "id": "xEhjdYVsxutu",
        "colab_type": "code",
        "colab": {}
      },
      "source": [
        "def seq_mini_vgg(channels=1, init_kernel_size=3, classes=7):\n",
        "    \n",
        "    # determine the number of channels to output in the first\n",
        "    # conv layer\n",
        "    outChannels = 2**math.floor(math.log2(channels*init_kernel_size*init_kernel_size))\n",
        "\n",
        "    mini_vgg_seq = Sequential()\n",
        "    \n",
        "    mini_vgg_seq.add(Conv2D(outChannels, (3, 3), strides=1, padding=\"same\", activation=\"relu\", \n",
        "        input_shape=(48, 48, channels)))\n",
        "    mini_vgg_seq.add(BatchNormalization(axis=-1))\n",
        "    mini_vgg_seq.add(Conv2D(outChannels*2, (3, 3), strides=2, padding=\"same\", activation=\"relu\"))\n",
        "    mini_vgg_seq.add(BatchNormalization(axis=-1))\n",
        "    mini_vgg_seq.add(MaxPooling2D(pool_size=(2, 2)))\n",
        "    \n",
        "    mini_vgg_seq.add(Conv2D(outChannels*4, (3, 3), strides=2, padding=\"same\", activation=\"relu\"))\n",
        "    mini_vgg_seq.add(BatchNormalization(axis=-1))\n",
        "    mini_vgg_seq.add(Conv2D(outChannels*8, (3, 3), strides=2, padding=\"same\", activation=\"relu\"))\n",
        "    mini_vgg_seq.add(BatchNormalization(axis=-1))\n",
        "    mini_vgg_seq.add(MaxPooling2D(pool_size=(2, 2)))\n",
        "    \n",
        "    mini_vgg_seq.add(GlobalAveragePooling2D())\n",
        "    mini_vgg_seq.add(Dense(512, activation=\"relu\"))\n",
        "    mini_vgg_seq.add(BatchNormalization())\n",
        "    mini_vgg_seq.add(Dropout(0.5))\n",
        "    mini_vgg_seq.add(Dense(classes, activation=\"softmax\"))\n",
        "    \n",
        "    return mini_vgg_seq"
      ],
      "execution_count": 0,
      "outputs": []
    },
    {
      "cell_type": "code",
      "metadata": {
        "id": "cZWGKqoLw3kc",
        "colab_type": "code",
        "colab": {}
      },
      "source": [
        "!wget https://raw.githubusercontent.com/suvojit-0x55aa/LSUV-Keras/master/lib/lsuv.py"
      ],
      "execution_count": 0,
      "outputs": []
    },
    {
      "cell_type": "code",
      "metadata": {
        "id": "SrygJvjdw5ZR",
        "colab_type": "code",
        "colab": {}
      },
      "source": [
        "from lsuv import LSUVinitialize"
      ],
      "execution_count": 0,
      "outputs": []
    },
    {
      "cell_type": "code",
      "metadata": {
        "id": "4R_AYcegxD8P",
        "colab_type": "code",
        "colab": {
          "base_uri": "https://localhost:8080/",
          "height": 221
        },
        "outputId": "6d233413-083a-485f-a294-33fd3537bcb4"
      },
      "source": [
        "mini_vgg_v2 = seq_mini_vgg(classes=len(LABELS))\n",
        "mini_vgg_v2.compile(loss=\"categorical_crossentropy\", optimizer=\"sgd\",\n",
        "\tmetrics=[\"accuracy\"])\n",
        "mini_vgg_v2 = LSUVinitialize(mini_vgg_v2, trainX[:64,:,:,:])"
      ],
      "execution_count": 62,
      "outputs": [
        {
          "output_type": "stream",
          "text": [
            "Init Layer conv2d_41\n",
            "0.27400485\n",
            "Init Layer conv2d_42\n",
            "0.3679965\n",
            "Init Layer conv2d_43\n",
            "0.13762803\n",
            "Init Layer conv2d_44\n",
            "0.14265084\n",
            "Init Layer dense_28\n",
            "0.3836396\n",
            "dense_29 too small\n",
            "LSUV: total layers initialized 5\n"
          ],
          "name": "stdout"
        }
      ]
    },
    {
      "cell_type": "code",
      "metadata": {
        "id": "qc5GG0sNxZf1",
        "colab_type": "code",
        "colab": {
          "base_uri": "https://localhost:8080/",
          "height": 1000
        },
        "outputId": "c72eacc6-0918-4a4f-fb03-67cca20bc491"
      },
      "source": [
        "wandb.init(project=\"emotion-detection\", entity=\"sayakpaul\", id=\"mini-vgg-prog-channels-wda-lsuv\")\n",
        "mini_vgg_v2.fit(trainX, trainY, \n",
        "    batch_size=64,\n",
        "    validation_data=(valX, valY),\n",
        "    epochs=50,\n",
        "    class_weight=classWeight,\n",
        "    callbacks=[WandbCallback(data_type=\"image\", validation_data=(valX, valY), labels=LABELS)])"
      ],
      "execution_count": 63,
      "outputs": [
        {
          "output_type": "display_data",
          "data": {
            "text/html": [
              "\n",
              "                Logging results to <a href=\"https://wandb.com\" target=\"_blank\">Weights & Biases</a> <a href=\"https://docs.wandb.com/integrations/jupyter.html\" target=\"_blank\">(Documentation)</a>.<br/>\n",
              "                Project page: <a href=\"https://app.wandb.ai/sayakpaul/emotion-detection\" target=\"_blank\">https://app.wandb.ai/sayakpaul/emotion-detection</a><br/>\n",
              "                Run page: <a href=\"https://app.wandb.ai/sayakpaul/emotion-detection/runs/mini-vgg-prog-channels-wda-lsuv\" target=\"_blank\">https://app.wandb.ai/sayakpaul/emotion-detection/runs/mini-vgg-prog-channels-wda-lsuv</a><br/>\n",
              "            "
            ],
            "text/plain": [
              "<IPython.core.display.HTML object>"
            ]
          },
          "metadata": {
            "tags": []
          }
        },
        {
          "output_type": "stream",
          "text": [
            "Train on 24402 samples, validate on 4307 samples\n",
            "Epoch 1/50\n",
            "24402/24402 [==============================] - 4s 172us/sample - loss: 2.4063 - accuracy: 0.2014 - val_loss: 1.7923 - val_accuracy: 0.2847\n",
            "Epoch 2/50\n",
            "24402/24402 [==============================] - 3s 121us/sample - loss: 1.9124 - accuracy: 0.2701 - val_loss: 1.7389 - val_accuracy: 0.3097\n",
            "Epoch 3/50\n",
            "24402/24402 [==============================] - 3s 117us/sample - loss: 1.7564 - accuracy: 0.3097 - val_loss: 1.6880 - val_accuracy: 0.3346\n",
            "Epoch 4/50\n",
            "24402/24402 [==============================] - 3s 118us/sample - loss: 1.6859 - accuracy: 0.3373 - val_loss: 1.6569 - val_accuracy: 0.3462\n",
            "Epoch 5/50\n",
            "24402/24402 [==============================] - 3s 119us/sample - loss: 1.6473 - accuracy: 0.3538 - val_loss: 1.6410 - val_accuracy: 0.3511\n",
            "Epoch 6/50\n",
            "24402/24402 [==============================] - 3s 120us/sample - loss: 1.6171 - accuracy: 0.3676 - val_loss: 1.6230 - val_accuracy: 0.3559\n",
            "Epoch 7/50\n",
            "24402/24402 [==============================] - 3s 120us/sample - loss: 1.5992 - accuracy: 0.3755 - val_loss: 1.6062 - val_accuracy: 0.3692\n",
            "Epoch 8/50\n",
            "24402/24402 [==============================] - 3s 120us/sample - loss: 1.5784 - accuracy: 0.3854 - val_loss: 1.5918 - val_accuracy: 0.3761\n",
            "Epoch 9/50\n",
            "24402/24402 [==============================] - 3s 121us/sample - loss: 1.5597 - accuracy: 0.3914 - val_loss: 1.5791 - val_accuracy: 0.3778\n",
            "Epoch 10/50\n",
            "24402/24402 [==============================] - 3s 119us/sample - loss: 1.5406 - accuracy: 0.4017 - val_loss: 1.5756 - val_accuracy: 0.3771\n",
            "Epoch 11/50\n",
            "24402/24402 [==============================] - 3s 121us/sample - loss: 1.5317 - accuracy: 0.4056 - val_loss: 1.5661 - val_accuracy: 0.3761\n",
            "Epoch 12/50\n",
            "24402/24402 [==============================] - 3s 118us/sample - loss: 1.5103 - accuracy: 0.4135 - val_loss: 1.5615 - val_accuracy: 0.3870\n",
            "Epoch 13/50\n",
            "24402/24402 [==============================] - 3s 119us/sample - loss: 1.4999 - accuracy: 0.4207 - val_loss: 1.5626 - val_accuracy: 0.3873\n",
            "Epoch 14/50\n",
            "24402/24402 [==============================] - 3s 117us/sample - loss: 1.4860 - accuracy: 0.4231 - val_loss: 1.5456 - val_accuracy: 0.4068\n",
            "Epoch 15/50\n",
            "24402/24402 [==============================] - 3s 117us/sample - loss: 1.4779 - accuracy: 0.4293 - val_loss: 1.5467 - val_accuracy: 0.3973\n",
            "Epoch 16/50\n",
            "24402/24402 [==============================] - 3s 119us/sample - loss: 1.4619 - accuracy: 0.4357 - val_loss: 1.5561 - val_accuracy: 0.4028\n",
            "Epoch 17/50\n",
            "24402/24402 [==============================] - 3s 119us/sample - loss: 1.4547 - accuracy: 0.4396 - val_loss: 1.5326 - val_accuracy: 0.4035\n",
            "Epoch 18/50\n",
            "24402/24402 [==============================] - 3s 116us/sample - loss: 1.4381 - accuracy: 0.4449 - val_loss: 1.5348 - val_accuracy: 0.4137\n",
            "Epoch 19/50\n",
            "24402/24402 [==============================] - 3s 121us/sample - loss: 1.4326 - accuracy: 0.4449 - val_loss: 1.5330 - val_accuracy: 0.4061\n",
            "Epoch 20/50\n",
            "24402/24402 [==============================] - 3s 123us/sample - loss: 1.4232 - accuracy: 0.4527 - val_loss: 1.5284 - val_accuracy: 0.4038\n",
            "Epoch 21/50\n",
            "24402/24402 [==============================] - 3s 120us/sample - loss: 1.4132 - accuracy: 0.4565 - val_loss: 1.5167 - val_accuracy: 0.4100\n",
            "Epoch 22/50\n",
            "24402/24402 [==============================] - 3s 120us/sample - loss: 1.4018 - accuracy: 0.4614 - val_loss: 1.5185 - val_accuracy: 0.4163\n",
            "Epoch 23/50\n",
            "24402/24402 [==============================] - 3s 117us/sample - loss: 1.3925 - accuracy: 0.4671 - val_loss: 1.5363 - val_accuracy: 0.4103\n",
            "Epoch 24/50\n",
            "24402/24402 [==============================] - 3s 119us/sample - loss: 1.3831 - accuracy: 0.4697 - val_loss: 1.5178 - val_accuracy: 0.4142\n",
            "Epoch 25/50\n",
            "24402/24402 [==============================] - 3s 117us/sample - loss: 1.3716 - accuracy: 0.4718 - val_loss: 1.5121 - val_accuracy: 0.4281\n",
            "Epoch 26/50\n",
            "24402/24402 [==============================] - 3s 119us/sample - loss: 1.3600 - accuracy: 0.4799 - val_loss: 1.5085 - val_accuracy: 0.4205\n",
            "Epoch 27/50\n",
            "24402/24402 [==============================] - 3s 119us/sample - loss: 1.3592 - accuracy: 0.4784 - val_loss: 1.5124 - val_accuracy: 0.4251\n",
            "Epoch 28/50\n",
            "24402/24402 [==============================] - 3s 119us/sample - loss: 1.3556 - accuracy: 0.4777 - val_loss: 1.5114 - val_accuracy: 0.4298\n",
            "Epoch 29/50\n",
            "24402/24402 [==============================] - 3s 119us/sample - loss: 1.3395 - accuracy: 0.4865 - val_loss: 1.5199 - val_accuracy: 0.4179\n",
            "Epoch 30/50\n",
            "24402/24402 [==============================] - 3s 118us/sample - loss: 1.3317 - accuracy: 0.4913 - val_loss: 1.5448 - val_accuracy: 0.4079\n",
            "Epoch 31/50\n",
            "24402/24402 [==============================] - 3s 120us/sample - loss: 1.3238 - accuracy: 0.4957 - val_loss: 1.5035 - val_accuracy: 0.4312\n",
            "Epoch 32/50\n",
            "24402/24402 [==============================] - 3s 121us/sample - loss: 1.3144 - accuracy: 0.4989 - val_loss: 1.5043 - val_accuracy: 0.4247\n",
            "Epoch 33/50\n",
            "24402/24402 [==============================] - 3s 118us/sample - loss: 1.3073 - accuracy: 0.4993 - val_loss: 1.4979 - val_accuracy: 0.4293\n",
            "Epoch 34/50\n",
            "24402/24402 [==============================] - 3s 116us/sample - loss: 1.3023 - accuracy: 0.5018 - val_loss: 1.5069 - val_accuracy: 0.4291\n",
            "Epoch 35/50\n",
            "24402/24402 [==============================] - 3s 115us/sample - loss: 1.2887 - accuracy: 0.5082 - val_loss: 1.5068 - val_accuracy: 0.4219\n",
            "Epoch 36/50\n",
            "24402/24402 [==============================] - 3s 119us/sample - loss: 1.2804 - accuracy: 0.5110 - val_loss: 1.5120 - val_accuracy: 0.4247\n",
            "Epoch 37/50\n",
            "24402/24402 [==============================] - 3s 117us/sample - loss: 1.2762 - accuracy: 0.5114 - val_loss: 1.5071 - val_accuracy: 0.4337\n",
            "Epoch 38/50\n",
            "24402/24402 [==============================] - 3s 119us/sample - loss: 1.2649 - accuracy: 0.5169 - val_loss: 1.5042 - val_accuracy: 0.4363\n",
            "Epoch 39/50\n",
            "24402/24402 [==============================] - 3s 117us/sample - loss: 1.2630 - accuracy: 0.5189 - val_loss: 1.5117 - val_accuracy: 0.4363\n",
            "Epoch 40/50\n",
            "24402/24402 [==============================] - 3s 117us/sample - loss: 1.2568 - accuracy: 0.5199 - val_loss: 1.4998 - val_accuracy: 0.4377\n",
            "Epoch 41/50\n",
            "24402/24402 [==============================] - 3s 120us/sample - loss: 1.2470 - accuracy: 0.5266 - val_loss: 1.5504 - val_accuracy: 0.4247\n",
            "Epoch 42/50\n",
            "24402/24402 [==============================] - 3s 120us/sample - loss: 1.2362 - accuracy: 0.5283 - val_loss: 1.5026 - val_accuracy: 0.4344\n",
            "Epoch 43/50\n",
            "24402/24402 [==============================] - 3s 123us/sample - loss: 1.2277 - accuracy: 0.5317 - val_loss: 1.5371 - val_accuracy: 0.4263\n",
            "Epoch 44/50\n",
            "24402/24402 [==============================] - 3s 119us/sample - loss: 1.2255 - accuracy: 0.5354 - val_loss: 1.5183 - val_accuracy: 0.4363\n",
            "Epoch 45/50\n",
            "24402/24402 [==============================] - 3s 119us/sample - loss: 1.2113 - accuracy: 0.5404 - val_loss: 1.6092 - val_accuracy: 0.4251\n",
            "Epoch 46/50\n",
            "24402/24402 [==============================] - 3s 121us/sample - loss: 1.2118 - accuracy: 0.5392 - val_loss: 1.5155 - val_accuracy: 0.4332\n",
            "Epoch 47/50\n",
            "24402/24402 [==============================] - 3s 123us/sample - loss: 1.1985 - accuracy: 0.5491 - val_loss: 1.5454 - val_accuracy: 0.4305\n",
            "Epoch 48/50\n",
            "24402/24402 [==============================] - 3s 124us/sample - loss: 1.1963 - accuracy: 0.5470 - val_loss: 1.5357 - val_accuracy: 0.4319\n",
            "Epoch 49/50\n",
            "24402/24402 [==============================] - 3s 120us/sample - loss: 1.1875 - accuracy: 0.5532 - val_loss: 1.5324 - val_accuracy: 0.4293\n",
            "Epoch 50/50\n",
            "24402/24402 [==============================] - 3s 117us/sample - loss: 1.1810 - accuracy: 0.5504 - val_loss: 1.5319 - val_accuracy: 0.4351\n"
          ],
          "name": "stdout"
        },
        {
          "output_type": "execute_result",
          "data": {
            "text/plain": [
              "<tensorflow.python.keras.callbacks.History at 0x7fdfdbab6d68>"
            ]
          },
          "metadata": {
            "tags": []
          },
          "execution_count": 63
        }
      ]
    }
  ]
}