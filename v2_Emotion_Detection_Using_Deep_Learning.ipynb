{
  "nbformat": 4,
  "nbformat_minor": 0,
  "metadata": {
    "colab": {
      "name": "v2_Emotion_Detection_Using_Deep_Learning.ipynb",
      "provenance": [],
      "collapsed_sections": [],
      "authorship_tag": "ABX9TyNdtXuT2HgQmy0Rj8D+7E3x",
      "include_colab_link": true
    },
    "kernelspec": {
      "name": "python3",
      "display_name": "Python 3"
    },
    "accelerator": "GPU"
  },
  "cells": [
    {
      "cell_type": "markdown",
      "metadata": {
        "id": "view-in-github",
        "colab_type": "text"
      },
      "source": [
        "<a href=\"https://colab.research.google.com/github/sayakpaul/Emotion-Detection-using-Deep-Learning/blob/master/v2_Emotion_Detection_Using_Deep_Learning.ipynb\" target=\"_parent\"><img src=\"https://colab.research.google.com/assets/colab-badge.svg\" alt=\"Open In Colab\"/></a>"
      ]
    },
    {
      "cell_type": "code",
      "metadata": {
        "id": "kOnkXJVR-vNa",
        "colab_type": "code",
        "outputId": "b75a44a0-0c3e-47cd-949b-c69c1f9c4fea",
        "colab": {
          "base_uri": "https://localhost:8080/",
          "height": 34
        }
      },
      "source": [
        "# Select TensorFlow 2.0 environment\n",
        "%tensorflow_version 2.x"
      ],
      "execution_count": 1,
      "outputs": [
        {
          "output_type": "stream",
          "text": [
            "TensorFlow 2.x selected.\n"
          ],
          "name": "stdout"
        }
      ]
    },
    {
      "cell_type": "markdown",
      "metadata": {
        "id": "JSbkNyrz5xkL",
        "colab_type": "text"
      },
      "source": [
        "You need to get your API key from your Kaggle account to be able to proceed with the following. "
      ]
    },
    {
      "cell_type": "code",
      "metadata": {
        "id": "axYnT4qp-3E3",
        "colab_type": "code",
        "colab": {}
      },
      "source": [
        "# Google Colab imports for setting up Kaggle\n",
        "from google.colab import files\n",
        "files.upload()"
      ],
      "execution_count": 0,
      "outputs": []
    },
    {
      "cell_type": "code",
      "metadata": {
        "id": "67YOp6Y9-7BI",
        "colab_type": "code",
        "colab": {}
      },
      "source": [
        "# Set up Kaggle\n",
        "!mkdir ~/.kaggle\n",
        "!cp kaggle.json ~/.kaggle/\n",
        "!chmod 600 ~/.kaggle/kaggle.json"
      ],
      "execution_count": 0,
      "outputs": []
    },
    {
      "cell_type": "code",
      "metadata": {
        "id": "caJiwp3y_Agi",
        "colab_type": "code",
        "colab": {}
      },
      "source": [
        "# Download the data\n",
        "# https://www.kaggle.com/c/challenges-in-representation-learning-facial-expression-recognition-challenge/\n",
        "!kaggle competitions download -c challenges-in-representation-learning-facial-expression-recognition-challenge"
      ],
      "execution_count": 0,
      "outputs": []
    },
    {
      "cell_type": "code",
      "metadata": {
        "id": "34neb1rU_Ek9",
        "colab_type": "code",
        "colab": {}
      },
      "source": [
        "# Unzip dataset\n",
        "!unzip -qq icml_face_data.csv.zip\n",
        "!unzip -qq test.csv.zip\n",
        "!unzip -qq train.csv.zip"
      ],
      "execution_count": 0,
      "outputs": []
    },
    {
      "cell_type": "code",
      "metadata": {
        "id": "qSgtCIaq_iuf",
        "colab_type": "code",
        "colab": {}
      },
      "source": [
        "# General imports\n",
        "from tqdm import tqdm\n",
        "import matplotlib.pyplot as plt\n",
        "import pandas as pd\n",
        "import numpy as np"
      ],
      "execution_count": 0,
      "outputs": []
    },
    {
      "cell_type": "code",
      "metadata": {
        "id": "I4fcMaGFAQrN",
        "colab_type": "code",
        "outputId": "a32d7ae6-7397-4d90-99e7-729b8a023e5c",
        "colab": {
          "base_uri": "https://localhost:8080/",
          "height": 204
        }
      },
      "source": [
        "# Load up the training dataset\n",
        "train = pd.read_csv(\"train.csv\")\n",
        "train.head()"
      ],
      "execution_count": 8,
      "outputs": [
        {
          "output_type": "execute_result",
          "data": {
            "text/html": [
              "<div>\n",
              "<style scoped>\n",
              "    .dataframe tbody tr th:only-of-type {\n",
              "        vertical-align: middle;\n",
              "    }\n",
              "\n",
              "    .dataframe tbody tr th {\n",
              "        vertical-align: top;\n",
              "    }\n",
              "\n",
              "    .dataframe thead th {\n",
              "        text-align: right;\n",
              "    }\n",
              "</style>\n",
              "<table border=\"1\" class=\"dataframe\">\n",
              "  <thead>\n",
              "    <tr style=\"text-align: right;\">\n",
              "      <th></th>\n",
              "      <th>emotion</th>\n",
              "      <th>pixels</th>\n",
              "    </tr>\n",
              "  </thead>\n",
              "  <tbody>\n",
              "    <tr>\n",
              "      <th>0</th>\n",
              "      <td>0</td>\n",
              "      <td>70 80 82 72 58 58 60 63 54 58 60 48 89 115 121...</td>\n",
              "    </tr>\n",
              "    <tr>\n",
              "      <th>1</th>\n",
              "      <td>0</td>\n",
              "      <td>151 150 147 155 148 133 111 140 170 174 182 15...</td>\n",
              "    </tr>\n",
              "    <tr>\n",
              "      <th>2</th>\n",
              "      <td>2</td>\n",
              "      <td>231 212 156 164 174 138 161 173 182 200 106 38...</td>\n",
              "    </tr>\n",
              "    <tr>\n",
              "      <th>3</th>\n",
              "      <td>4</td>\n",
              "      <td>24 32 36 30 32 23 19 20 30 41 21 22 32 34 21 1...</td>\n",
              "    </tr>\n",
              "    <tr>\n",
              "      <th>4</th>\n",
              "      <td>6</td>\n",
              "      <td>4 0 0 0 0 0 0 0 0 0 0 0 3 15 23 28 48 50 58 84...</td>\n",
              "    </tr>\n",
              "  </tbody>\n",
              "</table>\n",
              "</div>"
            ],
            "text/plain": [
              "   emotion                                             pixels\n",
              "0        0  70 80 82 72 58 58 60 63 54 58 60 48 89 115 121...\n",
              "1        0  151 150 147 155 148 133 111 140 170 174 182 15...\n",
              "2        2  231 212 156 164 174 138 161 173 182 200 106 38...\n",
              "3        4  24 32 36 30 32 23 19 20 30 41 21 22 32 34 21 1...\n",
              "4        6  4 0 0 0 0 0 0 0 0 0 0 0 3 15 23 28 48 50 58 84..."
            ]
          },
          "metadata": {
            "tags": []
          },
          "execution_count": 8
        }
      ]
    },
    {
      "cell_type": "code",
      "metadata": {
        "id": "I05tBXyaGztD",
        "colab_type": "code",
        "outputId": "396adf99-6db9-450c-accc-b5fce118c0fe",
        "colab": {
          "base_uri": "https://localhost:8080/",
          "height": 153
        }
      },
      "source": [
        "# Class distribution\n",
        "train[\"emotion\"].value_counts()"
      ],
      "execution_count": 9,
      "outputs": [
        {
          "output_type": "execute_result",
          "data": {
            "text/plain": [
              "3    7215\n",
              "6    4965\n",
              "4    4830\n",
              "2    4097\n",
              "0    3995\n",
              "5    3171\n",
              "1     436\n",
              "Name: emotion, dtype: int64"
            ]
          },
          "metadata": {
            "tags": []
          },
          "execution_count": 9
        }
      ]
    },
    {
      "cell_type": "markdown",
      "metadata": {
        "id": "_oGPWHJuP0pY",
        "colab_type": "text"
      },
      "source": [
        "Class imbalance noticed."
      ]
    },
    {
      "cell_type": "code",
      "metadata": {
        "id": "tugm4rNZEVpM",
        "colab_type": "code",
        "outputId": "ae3276ee-29da-4ef2-d5b0-607a48c98c87",
        "colab": {
          "base_uri": "https://localhost:8080/",
          "height": 204
        }
      },
      "source": [
        "# Load test dataset\n",
        "test = pd.read_csv(\"test.csv\")\n",
        "test.head()"
      ],
      "execution_count": 10,
      "outputs": [
        {
          "output_type": "execute_result",
          "data": {
            "text/html": [
              "<div>\n",
              "<style scoped>\n",
              "    .dataframe tbody tr th:only-of-type {\n",
              "        vertical-align: middle;\n",
              "    }\n",
              "\n",
              "    .dataframe tbody tr th {\n",
              "        vertical-align: top;\n",
              "    }\n",
              "\n",
              "    .dataframe thead th {\n",
              "        text-align: right;\n",
              "    }\n",
              "</style>\n",
              "<table border=\"1\" class=\"dataframe\">\n",
              "  <thead>\n",
              "    <tr style=\"text-align: right;\">\n",
              "      <th></th>\n",
              "      <th>pixels</th>\n",
              "    </tr>\n",
              "  </thead>\n",
              "  <tbody>\n",
              "    <tr>\n",
              "      <th>0</th>\n",
              "      <td>254 254 254 254 254 249 255 160 2 58 53 70 77 ...</td>\n",
              "    </tr>\n",
              "    <tr>\n",
              "      <th>1</th>\n",
              "      <td>156 184 198 202 204 207 210 212 213 214 215 21...</td>\n",
              "    </tr>\n",
              "    <tr>\n",
              "      <th>2</th>\n",
              "      <td>69 118 61 60 96 121 103 87 103 88 70 90 115 12...</td>\n",
              "    </tr>\n",
              "    <tr>\n",
              "      <th>3</th>\n",
              "      <td>205 203 236 157 83 158 120 116 94 86 155 180 2...</td>\n",
              "    </tr>\n",
              "    <tr>\n",
              "      <th>4</th>\n",
              "      <td>87 79 74 66 74 96 77 80 80 84 83 89 102 91 84 ...</td>\n",
              "    </tr>\n",
              "  </tbody>\n",
              "</table>\n",
              "</div>"
            ],
            "text/plain": [
              "                                              pixels\n",
              "0  254 254 254 254 254 249 255 160 2 58 53 70 77 ...\n",
              "1  156 184 198 202 204 207 210 212 213 214 215 21...\n",
              "2  69 118 61 60 96 121 103 87 103 88 70 90 115 12...\n",
              "3  205 203 236 157 83 158 120 116 94 86 155 180 2...\n",
              "4  87 79 74 66 74 96 77 80 80 84 83 89 102 91 84 ..."
            ]
          },
          "metadata": {
            "tags": []
          },
          "execution_count": 10
        }
      ]
    },
    {
      "cell_type": "markdown",
      "metadata": {
        "id": "TMRozBIWAd8C",
        "colab_type": "text"
      },
      "source": [
        "Note on the label mapping:\n",
        "\n",
        "(0=Angry, 1=Disgust, 2=Fear, 3=Happy, 4=Sad, 5=Surprise, 6=Neutral)"
      ]
    },
    {
      "cell_type": "code",
      "metadata": {
        "id": "rqzUp-dIAU3Y",
        "colab_type": "code",
        "colab": {}
      },
      "source": [
        "# Function to clean the dataset\n",
        "# Taken from http://bit.ly/37AUk7f\n",
        "def clean_data(dataframe):\n",
        "    image_pixels = np.zeros(shape=(len(dataframe), 48, 48))\n",
        "    labels = np.zeros(shape=(len(dataframe), ))\n",
        "    for (i, row) in tqdm(dataframe.iterrows()):\n",
        "        image = np.fromstring(row[\"pixels\"], dtype=int, sep=' ')\n",
        "        image = image.reshape(48, 48)\n",
        "        image = image.astype(\"float\")/255\n",
        "        \n",
        "        image_pixels[i] = image\n",
        "        labels[i] = row[\"emotion\"]\n",
        "    \n",
        "    return (image_pixels, labels)"
      ],
      "execution_count": 0,
      "outputs": []
    },
    {
      "cell_type": "code",
      "metadata": {
        "id": "KtreWITkAoSi",
        "colab_type": "code",
        "outputId": "1a2d9f7b-912b-4e9c-9f2f-7b8a3b979df7",
        "colab": {
          "base_uri": "https://localhost:8080/",
          "height": 51
        }
      },
      "source": [
        "# Clean the training dataset and verify the shapes\n",
        "(train_pixels, train_labels) = clean_data(train)\n",
        "train_pixels.shape, train_labels.shape"
      ],
      "execution_count": 12,
      "outputs": [
        {
          "output_type": "stream",
          "text": [
            "28709it [00:05, 5618.68it/s]\n"
          ],
          "name": "stderr"
        },
        {
          "output_type": "execute_result",
          "data": {
            "text/plain": [
              "((28709, 48, 48), (28709,))"
            ]
          },
          "metadata": {
            "tags": []
          },
          "execution_count": 12
        }
      ]
    },
    {
      "cell_type": "code",
      "metadata": {
        "id": "aaZtUxc1IKOy",
        "colab_type": "code",
        "colab": {}
      },
      "source": [
        "# sklearn and other utility imports\n",
        "from sklearn.model_selection import train_test_split\n",
        "from sklearn.preprocessing import LabelEncoder\n",
        "from tensorflow.keras.utils import to_categorical"
      ],
      "execution_count": 0,
      "outputs": []
    },
    {
      "cell_type": "code",
      "metadata": {
        "id": "QLtIOejPIkOY",
        "colab_type": "code",
        "colab": {}
      },
      "source": [
        "# One-hot encode the labels\n",
        "le = LabelEncoder().fit(train_labels)\n",
        "train_labels = to_categorical(le.transform(train_labels), 7)"
      ],
      "execution_count": 0,
      "outputs": []
    },
    {
      "cell_type": "code",
      "metadata": {
        "id": "TJAZX2B1I1q0",
        "colab_type": "code",
        "outputId": "502f7081-9186-4394-cdf4-4ce13e1f1773",
        "colab": {
          "base_uri": "https://localhost:8080/",
          "height": 34
        }
      },
      "source": [
        "train_labels.shape"
      ],
      "execution_count": 15,
      "outputs": [
        {
          "output_type": "execute_result",
          "data": {
            "text/plain": [
              "(28709, 7)"
            ]
          },
          "metadata": {
            "tags": []
          },
          "execution_count": 15
        }
      ]
    },
    {
      "cell_type": "code",
      "metadata": {
        "id": "cFXCWLEIH2qT",
        "colab_type": "code",
        "outputId": "936726d2-1505-47c0-ad34-9d8fc4630909",
        "colab": {
          "base_uri": "https://localhost:8080/",
          "height": 34
        }
      },
      "source": [
        "# Split the training data into further partial training and validation data\n",
        "(trainX, valX, trainY, valY) = train_test_split(train_pixels,\n",
        "    train_labels, test_size=0.15, stratify=train_labels, random_state=42)\n",
        "trainX.shape, trainY.shape, valX.shape, valY.shape"
      ],
      "execution_count": 16,
      "outputs": [
        {
          "output_type": "execute_result",
          "data": {
            "text/plain": [
              "((24402, 48, 48), (24402, 7), (4307, 48, 48), (4307, 7))"
            ]
          },
          "metadata": {
            "tags": []
          },
          "execution_count": 16
        }
      ]
    },
    {
      "cell_type": "code",
      "metadata": {
        "id": "j-vzxKMHHLLj",
        "colab_type": "code",
        "colab": {}
      },
      "source": [
        "# Account for skew in the labeled data\n",
        "classTotals = trainY.sum(axis=0)\n",
        "classWeight = classTotals.max() / classTotals"
      ],
      "execution_count": 0,
      "outputs": []
    },
    {
      "cell_type": "code",
      "metadata": {
        "id": "NktmFLvMMCUI",
        "colab_type": "code",
        "colab": {}
      },
      "source": [
        "# Define the label mapping\n",
        "LABELS = {\n",
        "    0: \"Angry\", \n",
        "    1: \"Disgust\", \n",
        "    2: \"Fear\",\n",
        "    3: \"Happy\", \n",
        "    4: \"Sad\", \n",
        "    5: \"Surprise\", \n",
        "    6: \"Neutral\"\n",
        "}"
      ],
      "execution_count": 0,
      "outputs": []
    },
    {
      "cell_type": "code",
      "metadata": {
        "id": "Hzuhav_kMjm5",
        "colab_type": "code",
        "outputId": "7b366be6-1040-4f9f-9287-83fd2d7aa70b",
        "colab": {
          "base_uri": "https://localhost:8080/",
          "height": 1000
        }
      },
      "source": [
        "# Spot check the dataset\n",
        "train_idx = np.random.choice(len(trainX), 5)\n",
        "for id in train_idx:\n",
        "    plt.imshow(trainX[id].reshape(48, 48), cmap=\"gray\")\n",
        "    plt.xlabel(LABELS[np.argmax(trainY[id])])\n",
        "    plt.show()"
      ],
      "execution_count": 19,
      "outputs": [
        {
          "output_type": "display_data",
          "data": {
            "image/png": "[encoded data removed]",
            "text/plain": [
              "<Figure size 432x288 with 1 Axes>"
            ]
          },
          "metadata": {
            "tags": []
          }
        },
        {
          "output_type": "display_data",
          "data": {
            "image/png": "[encoded data removed]",
            "text/plain": [
              "<Figure size 432x288 with 1 Axes>"
            ]
          },
          "metadata": {
            "tags": []
          }
        },
        {
          "output_type": "display_data",
          "data": {
            "image/png": "[encoded data removed]",
            "text/plain": [
              "<Figure size 432x288 with 1 Axes>"
            ]
          },
          "metadata": {
            "tags": []
          }
        },
        {
          "output_type": "display_data",
          "data": {
            "image/png": "[encoded data removed]",
            "text/plain": [
              "<Figure size 432x288 with 1 Axes>"
            ]
          },
          "metadata": {
            "tags": []
          }
        },
        {
          "output_type": "display_data",
          "data": {
            "image/png": "[encoded data removed]",
            "text/plain": [
              "<Figure size 432x288 with 1 Axes>"
            ]
          },
          "metadata": {
            "tags": []
          }
        }
      ]
    },
    {
      "cell_type": "code",
      "metadata": {
        "id": "0acbio2XL9za",
        "colab_type": "code",
        "colab": {}
      },
      "source": [
        "# Convnets would require a channel dimension\n",
        "trainX = trainX.reshape(-1, 48, 48, 1)\n",
        "valX = valX.reshape(-1, 48, 48, 1)"
      ],
      "execution_count": 0,
      "outputs": []
    },
    {
      "cell_type": "code",
      "metadata": {
        "id": "CUb9Vu1gNvQA",
        "colab_type": "code",
        "colab": {}
      },
      "source": [
        "# Set up wandb\n",
        "!pip install wandb\n",
        "!wandb login"
      ],
      "execution_count": 0,
      "outputs": []
    },
    {
      "cell_type": "code",
      "metadata": {
        "id": "VV-4dpBHOCsm",
        "colab_type": "code",
        "colab": {}
      },
      "source": [
        "# Import wandb\n",
        "import wandb\n",
        "from wandb.keras import WandbCallback"
      ],
      "execution_count": 0,
      "outputs": []
    },
    {
      "cell_type": "code",
      "metadata": {
        "id": "UNA_MgR8otlx",
        "colab_type": "code",
        "colab": {}
      },
      "source": [
        "# import the necessary packages\n",
        "from tensorflow.keras.models import Model\n",
        "from tensorflow.keras.models import Sequential\n",
        "from tensorflow.keras.layers import GlobalAveragePooling2D\n",
        "from tensorflow.keras.layers import BatchNormalization\n",
        "from tensorflow.keras.layers import AveragePooling2D\n",
        "from tensorflow.keras.layers import MaxPooling2D\n",
        "from tensorflow.keras.layers import Conv2D\n",
        "from tensorflow.keras.layers import Activation\n",
        "from tensorflow.keras.layers import Dropout\n",
        "from tensorflow.keras.layers import Input\n",
        "from tensorflow.keras.layers import Dense\n",
        "from tensorflow.keras.layers import concatenate\n",
        "import math"
      ],
      "execution_count": 0,
      "outputs": []
    },
    {
      "cell_type": "markdown",
      "metadata": {
        "id": "kHSLjYcB5sOp",
        "colab_type": "text"
      },
      "source": [
        "Let's try Layer-Wise Sequential Unit Variance (LSUV) to initialize our network. LSUV was introduced in a paper called [All you need is a good init](https://arxiv.org/pdf/1511.06422.pdf) by Mishkin et. al. I have referred the Keras implementation from here: https://github.com/suvojit-0x55aa/LSUV-Keras. "
      ]
    },
    {
      "cell_type": "code",
      "metadata": {
        "id": "xEhjdYVsxutu",
        "colab_type": "code",
        "colab": {}
      },
      "source": [
        "def seq_mini_vgg(channels=1, classes=7):\n",
        "\n",
        "    mini_vgg_seq = Sequential()\n",
        "    \n",
        "    mini_vgg_seq.add(Conv2D(32, (3, 3), strides=1, padding=\"same\", activation=\"relu\", \n",
        "        input_shape=(48, 48, channels)))\n",
        "    mini_vgg_seq.add(BatchNormalization(axis=-1))\n",
        "    mini_vgg_seq.add(Conv2D(32, (3, 3), strides=2, padding=\"same\", activation=\"relu\"))\n",
        "    mini_vgg_seq.add(BatchNormalization(axis=-1))\n",
        "    mini_vgg_seq.add(MaxPooling2D(pool_size=(2, 2)))\n",
        "    \n",
        "    mini_vgg_seq.add(Conv2D(32, (3, 3), strides=2, padding=\"same\", activation=\"relu\"))\n",
        "    mini_vgg_seq.add(BatchNormalization(axis=-1))\n",
        "    mini_vgg_seq.add(Conv2D(32, (3, 3), strides=2, padding=\"same\", activation=\"relu\"))\n",
        "    mini_vgg_seq.add(BatchNormalization(axis=-1))\n",
        "    mini_vgg_seq.add(MaxPooling2D(pool_size=(2, 2)))\n",
        "    \n",
        "    mini_vgg_seq.add(GlobalAveragePooling2D())\n",
        "    mini_vgg_seq.add(Dense(512, activation=\"relu\"))\n",
        "    mini_vgg_seq.add(BatchNormalization())\n",
        "    mini_vgg_seq.add(Dropout(0.5))\n",
        "    mini_vgg_seq.add(Dense(classes, activation=\"softmax\"))\n",
        "    \n",
        "    return mini_vgg_seq"
      ],
      "execution_count": 0,
      "outputs": []
    },
    {
      "cell_type": "code",
      "metadata": {
        "id": "cZWGKqoLw3kc",
        "colab_type": "code",
        "colab": {
          "base_uri": "https://localhost:8080/",
          "height": 204
        },
        "outputId": "67b072e1-f519-47c4-f5c5-2f90ee9b69cf"
      },
      "source": [
        "!wget https://raw.githubusercontent.com/suvojit-0x55aa/LSUV-Keras/master/lib/lsuv.py"
      ],
      "execution_count": 25,
      "outputs": [
        {
          "output_type": "stream",
          "text": [
            "--2020-02-01 08:52:04--  https://raw.githubusercontent.com/suvojit-0x55aa/LSUV-Keras/master/lib/lsuv.py\n",
            "Resolving raw.githubusercontent.com (raw.githubusercontent.com)... 151.101.0.133, 151.101.64.133, 151.101.128.133, ...\n",
            "Connecting to raw.githubusercontent.com (raw.githubusercontent.com)|151.101.0.133|:443... connected.\n",
            "HTTP request sent, awaiting response... 200 OK\n",
            "Length: 2598 (2.5K) [text/plain]\n",
            "Saving to: ‘lsuv.py’\n",
            "\n",
            "\rlsuv.py               0%[                    ]       0  --.-KB/s               \rlsuv.py             100%[===================>]   2.54K  --.-KB/s    in 0s      \n",
            "\n",
            "2020-02-01 08:52:05 (45.2 MB/s) - ‘lsuv.py’ saved [2598/2598]\n",
            "\n"
          ],
          "name": "stdout"
        }
      ]
    },
    {
      "cell_type": "code",
      "metadata": {
        "id": "SrygJvjdw5ZR",
        "colab_type": "code",
        "colab": {}
      },
      "source": [
        "from lsuv import LSUVinitialize"
      ],
      "execution_count": 0,
      "outputs": []
    },
    {
      "cell_type": "code",
      "metadata": {
        "id": "4R_AYcegxD8P",
        "colab_type": "code",
        "outputId": "326bb28f-6beb-410c-92cf-06cdaaa20a90",
        "colab": {
          "base_uri": "https://localhost:8080/",
          "height": 221
        }
      },
      "source": [
        "mini_vgg_v2 = seq_mini_vgg(classes=len(LABELS))\n",
        "mini_vgg_v2.compile(loss=\"categorical_crossentropy\", optimizer=\"sgd\",\n",
        "\tmetrics=[\"accuracy\"])\n",
        "mini_vgg_v2 = LSUVinitialize(mini_vgg_v2, trainX[:64,:,:,:])"
      ],
      "execution_count": 27,
      "outputs": [
        {
          "output_type": "stream",
          "text": [
            "Init Layer conv2d\n",
            "0.13916174\n",
            "Init Layer conv2d_1\n",
            "0.25711745\n",
            "Init Layer conv2d_2\n",
            "0.27090916\n",
            "Init Layer conv2d_3\n",
            "0.15892583\n",
            "Init Layer dense\n",
            "0.2414849\n",
            "dense_1 too small\n",
            "LSUV: total layers initialized 5\n"
          ],
          "name": "stdout"
        }
      ]
    },
    {
      "cell_type": "code",
      "metadata": {
        "id": "qc5GG0sNxZf1",
        "colab_type": "code",
        "outputId": "85835ba9-618e-43d5-fa6e-ef4079eb2ce9",
        "colab": {
          "base_uri": "https://localhost:8080/",
          "height": 1000
        }
      },
      "source": [
        "wandb.init(project=\"emotion-detection\", entity=\"sayakpaul\", id=\"mini-vgg-wo-data-aug-sgd-lsuv\")\n",
        "mini_vgg_v2.fit(trainX, trainY, \n",
        "    batch_size=64,\n",
        "    validation_data=(valX, valY),\n",
        "    epochs=50,\n",
        "    class_weight=classWeight,\n",
        "    callbacks=[WandbCallback(data_type=\"image\", validation_data=(valX, valY), labels=LABELS)])"
      ],
      "execution_count": 28,
      "outputs": [
        {
          "output_type": "display_data",
          "data": {
            "text/html": [
              "\n",
              "                Logging results to <a href=\"https://wandb.com\" target=\"_blank\">Weights & Biases</a> <a href=\"https://docs.wandb.com/integrations/jupyter.html\" target=\"_blank\">(Documentation)</a>.<br/>\n",
              "                Project page: <a href=\"https://app.wandb.ai/sayakpaul/emotion-detection\" target=\"_blank\">https://app.wandb.ai/sayakpaul/emotion-detection</a><br/>\n",
              "                Run page: <a href=\"https://app.wandb.ai/sayakpaul/emotion-detection/runs/mini-vgg-data-aug-sgd-lsuv\" target=\"_blank\">https://app.wandb.ai/sayakpaul/emotion-detection/runs/mini-vgg-data-aug-sgd-lsuv</a><br/>\n",
              "            "
            ],
            "text/plain": [
              "<IPython.core.display.HTML object>"
            ]
          },
          "metadata": {
            "tags": []
          }
        },
        {
          "output_type": "stream",
          "text": [
            "Train on 24402 samples, validate on 4307 samples\n",
            "Epoch 1/50\n",
            "24402/24402 [==============================] - 5s 205us/sample - loss: 2.3542 - accuracy: 0.2114 - val_loss: 1.8102 - val_accuracy: 0.2877\n",
            "Epoch 2/50\n",
            "24402/24402 [==============================] - 4s 152us/sample - loss: 1.8532 - accuracy: 0.3076 - val_loss: 1.6654 - val_accuracy: 0.3497\n",
            "Epoch 3/50\n",
            "24402/24402 [==============================] - 4s 151us/sample - loss: 1.6838 - accuracy: 0.3499 - val_loss: 1.6491 - val_accuracy: 0.3620\n",
            "Epoch 4/50\n",
            "24402/24402 [==============================] - 4s 155us/sample - loss: 1.6084 - accuracy: 0.3745 - val_loss: 1.5730 - val_accuracy: 0.3947\n",
            "Epoch 5/50\n",
            "24402/24402 [==============================] - 4s 149us/sample - loss: 1.5566 - accuracy: 0.3976 - val_loss: 1.5542 - val_accuracy: 0.4014\n",
            "Epoch 6/50\n",
            "24402/24402 [==============================] - 4s 149us/sample - loss: 1.5265 - accuracy: 0.4041 - val_loss: 1.5282 - val_accuracy: 0.4186\n",
            "Epoch 7/50\n",
            "24402/24402 [==============================] - 4s 151us/sample - loss: 1.4994 - accuracy: 0.4166 - val_loss: 1.5193 - val_accuracy: 0.4133\n",
            "Epoch 8/50\n",
            "24402/24402 [==============================] - 4s 150us/sample - loss: 1.4775 - accuracy: 0.4264 - val_loss: 1.4981 - val_accuracy: 0.4223\n",
            "Epoch 9/50\n",
            "24402/24402 [==============================] - 4s 149us/sample - loss: 1.4545 - accuracy: 0.4371 - val_loss: 1.4971 - val_accuracy: 0.4323\n",
            "Epoch 10/50\n",
            "24402/24402 [==============================] - 4s 150us/sample - loss: 1.4355 - accuracy: 0.4445 - val_loss: 1.4967 - val_accuracy: 0.4254\n",
            "Epoch 11/50\n",
            "24402/24402 [==============================] - 4s 150us/sample - loss: 1.4249 - accuracy: 0.4501 - val_loss: 1.4825 - val_accuracy: 0.4207\n",
            "Epoch 12/50\n",
            "24402/24402 [==============================] - 4s 152us/sample - loss: 1.4070 - accuracy: 0.4582 - val_loss: 1.4774 - val_accuracy: 0.4356\n",
            "Epoch 13/50\n",
            "24402/24402 [==============================] - 4s 153us/sample - loss: 1.3938 - accuracy: 0.4654 - val_loss: 1.4619 - val_accuracy: 0.4428\n",
            "Epoch 14/50\n",
            "24402/24402 [==============================] - 4s 152us/sample - loss: 1.3819 - accuracy: 0.4723 - val_loss: 1.4650 - val_accuracy: 0.4453\n",
            "Epoch 15/50\n",
            "24402/24402 [==============================] - 4s 151us/sample - loss: 1.3651 - accuracy: 0.4711 - val_loss: 1.4612 - val_accuracy: 0.4414\n",
            "Epoch 16/50\n",
            "24402/24402 [==============================] - 4s 154us/sample - loss: 1.3536 - accuracy: 0.4791 - val_loss: 1.4587 - val_accuracy: 0.4391\n",
            "Epoch 17/50\n",
            "24402/24402 [==============================] - 4s 155us/sample - loss: 1.3439 - accuracy: 0.4832 - val_loss: 1.4530 - val_accuracy: 0.4432\n",
            "Epoch 18/50\n",
            "24402/24402 [==============================] - 4s 153us/sample - loss: 1.3377 - accuracy: 0.4868 - val_loss: 1.4702 - val_accuracy: 0.4372\n",
            "Epoch 19/50\n",
            "24402/24402 [==============================] - 4s 149us/sample - loss: 1.3189 - accuracy: 0.4940 - val_loss: 1.4595 - val_accuracy: 0.4400\n",
            "Epoch 20/50\n",
            "24402/24402 [==============================] - 4s 156us/sample - loss: 1.3108 - accuracy: 0.4997 - val_loss: 1.4510 - val_accuracy: 0.4435\n",
            "Epoch 21/50\n",
            "24402/24402 [==============================] - 4s 152us/sample - loss: 1.2996 - accuracy: 0.5007 - val_loss: 1.4536 - val_accuracy: 0.4425\n",
            "Epoch 22/50\n",
            "24402/24402 [==============================] - 4s 150us/sample - loss: 1.2873 - accuracy: 0.5098 - val_loss: 1.4470 - val_accuracy: 0.4442\n",
            "Epoch 23/50\n",
            "24402/24402 [==============================] - 4s 152us/sample - loss: 1.2771 - accuracy: 0.5116 - val_loss: 1.4803 - val_accuracy: 0.4411\n",
            "Epoch 24/50\n",
            "24402/24402 [==============================] - 4s 151us/sample - loss: 1.2699 - accuracy: 0.5177 - val_loss: 1.4442 - val_accuracy: 0.4532\n",
            "Epoch 25/50\n",
            "24402/24402 [==============================] - 4s 151us/sample - loss: 1.2556 - accuracy: 0.5218 - val_loss: 1.4510 - val_accuracy: 0.4509\n",
            "Epoch 26/50\n",
            "24402/24402 [==============================] - 4s 151us/sample - loss: 1.2500 - accuracy: 0.5248 - val_loss: 1.4876 - val_accuracy: 0.4305\n",
            "Epoch 27/50\n",
            "24402/24402 [==============================] - 4s 150us/sample - loss: 1.2375 - accuracy: 0.5293 - val_loss: 1.4640 - val_accuracy: 0.4460\n",
            "Epoch 28/50\n",
            "24402/24402 [==============================] - 4s 150us/sample - loss: 1.2308 - accuracy: 0.5346 - val_loss: 1.4580 - val_accuracy: 0.4479\n",
            "Epoch 29/50\n",
            "24402/24402 [==============================] - 4s 153us/sample - loss: 1.2183 - accuracy: 0.5349 - val_loss: 1.4774 - val_accuracy: 0.4404\n",
            "Epoch 30/50\n",
            "24402/24402 [==============================] - 4s 149us/sample - loss: 1.2109 - accuracy: 0.5410 - val_loss: 1.5199 - val_accuracy: 0.4414\n",
            "Epoch 31/50\n",
            "24402/24402 [==============================] - 4s 149us/sample - loss: 1.2053 - accuracy: 0.5413 - val_loss: 1.5589 - val_accuracy: 0.4230\n",
            "Epoch 32/50\n",
            "24402/24402 [==============================] - 4s 150us/sample - loss: 1.1926 - accuracy: 0.5462 - val_loss: 1.4560 - val_accuracy: 0.4567\n",
            "Epoch 33/50\n",
            "24402/24402 [==============================] - 4s 150us/sample - loss: 1.1826 - accuracy: 0.5522 - val_loss: 1.4677 - val_accuracy: 0.4483\n",
            "Epoch 34/50\n",
            "24402/24402 [==============================] - 4s 152us/sample - loss: 1.1715 - accuracy: 0.5552 - val_loss: 1.5064 - val_accuracy: 0.4411\n",
            "Epoch 35/50\n",
            "24402/24402 [==============================] - 4s 152us/sample - loss: 1.1632 - accuracy: 0.5595 - val_loss: 1.5356 - val_accuracy: 0.4386\n",
            "Epoch 36/50\n",
            "24402/24402 [==============================] - 4s 156us/sample - loss: 1.1548 - accuracy: 0.5624 - val_loss: 1.5112 - val_accuracy: 0.4379\n",
            "Epoch 37/50\n",
            "24402/24402 [==============================] - 4s 153us/sample - loss: 1.1470 - accuracy: 0.5641 - val_loss: 1.5113 - val_accuracy: 0.4504\n",
            "Epoch 38/50\n",
            "24402/24402 [==============================] - 4s 150us/sample - loss: 1.1392 - accuracy: 0.5693 - val_loss: 1.5066 - val_accuracy: 0.4546\n",
            "Epoch 39/50\n",
            "24402/24402 [==============================] - 4s 152us/sample - loss: 1.1297 - accuracy: 0.5744 - val_loss: 1.5169 - val_accuracy: 0.4581\n",
            "Epoch 40/50\n",
            "24402/24402 [==============================] - 4s 150us/sample - loss: 1.1238 - accuracy: 0.5706 - val_loss: 1.5221 - val_accuracy: 0.4488\n",
            "Epoch 41/50\n",
            "24402/24402 [==============================] - 4s 151us/sample - loss: 1.1135 - accuracy: 0.5779 - val_loss: 1.5102 - val_accuracy: 0.4488\n",
            "Epoch 42/50\n",
            "24402/24402 [==============================] - 4s 151us/sample - loss: 1.1032 - accuracy: 0.5813 - val_loss: 1.5218 - val_accuracy: 0.4488\n",
            "Epoch 43/50\n",
            "24402/24402 [==============================] - 4s 152us/sample - loss: 1.0923 - accuracy: 0.5884 - val_loss: 1.5284 - val_accuracy: 0.4490\n",
            "Epoch 44/50\n",
            "24402/24402 [==============================] - 4s 150us/sample - loss: 1.0931 - accuracy: 0.5867 - val_loss: 1.5451 - val_accuracy: 0.4504\n",
            "Epoch 45/50\n",
            "24402/24402 [==============================] - 4s 150us/sample - loss: 1.0785 - accuracy: 0.5922 - val_loss: 1.5260 - val_accuracy: 0.4572\n",
            "Epoch 46/50\n",
            "24402/24402 [==============================] - 4s 153us/sample - loss: 1.0709 - accuracy: 0.5949 - val_loss: 1.5448 - val_accuracy: 0.4537\n",
            "Epoch 47/50\n",
            "24402/24402 [==============================] - 4s 150us/sample - loss: 1.0612 - accuracy: 0.6006 - val_loss: 1.5390 - val_accuracy: 0.4476\n",
            "Epoch 48/50\n",
            "24402/24402 [==============================] - 4s 150us/sample - loss: 1.0545 - accuracy: 0.6021 - val_loss: 1.5632 - val_accuracy: 0.4414\n",
            "Epoch 49/50\n",
            "24402/24402 [==============================] - 4s 150us/sample - loss: 1.0494 - accuracy: 0.6064 - val_loss: 1.5808 - val_accuracy: 0.4377\n",
            "Epoch 50/50\n",
            "24402/24402 [==============================] - 4s 151us/sample - loss: 1.0438 - accuracy: 0.6070 - val_loss: 1.5531 - val_accuracy: 0.4497\n"
          ],
          "name": "stdout"
        },
        {
          "output_type": "execute_result",
          "data": {
            "text/plain": [
              "<tensorflow.python.keras.callbacks.History at 0x7f2f5c782358>"
            ]
          },
          "metadata": {
            "tags": []
          },
          "execution_count": 28
        }
      ]
    }
  ]
}